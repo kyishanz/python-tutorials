{
  "nbformat": 4,
  "nbformat_minor": 0,
  "metadata": {
    "colab": {
      "name": "P1: Introduction to Python (Variables, conditionals, lists, loops)",
      "provenance": [],
      "collapsed_sections": [],
      "include_colab_link": true
    },
    "kernelspec": {
      "name": "python3",
      "display_name": "Python 3"
    }
  },
  "cells": [
    {
      "cell_type": "markdown",
      "metadata": {
        "id": "view-in-github",
        "colab_type": "text"
      },
      "source": [
        "<a href=\"https://colab.research.google.com/github/kyishanz/python-tutorials/blob/main/P1_Introduction_to_Python_(Variables%2C_conditionals%2C_lists%2C_loops).ipynb\" target=\"_parent\"><img src=\"https://colab.research.google.com/assets/colab-badge.svg\" alt=\"Open In Colab\"/></a>"
      ]
    },
    {
      "cell_type": "markdown",
      "metadata": {
        "id": "bd59jn7NFC9Y"
      },
      "source": [
        "# Introduction to Python (Pt. 1)\n",
        "\n",
        "Welcome to the exciting world of Python!\n",
        "\n",
        "For many of you, this may be your very first time programming, and these lessons are designed to help you go from your very first steps with reading code all the way to writing code for the hands-on projects this summer. You got this!\n",
        "\n",
        "![alt text](https://media.giphy.com/media/fnQ3DS2bSrOdxNIXOC/giphy.gif)\n",
        "\n",
        "Before we jump into the lesson itself, let's talk about programming in general. **Programming** is a way to tell your computer how to perform tasks by giving it specific instructions. \n",
        "\n",
        "Everything a computer does is by using a computer program, and you may already be familiar with many of these! For example, Instagram, Pokemon Go, Google Maps, Siri, Photoshop, and more are all examples of computer programs.\n",
        "\n",
        "![Imgur](https://i.imgur.com/JLDNaFK.jpg)\n",
        "\n",
        "Just as humans communicate with different languages, there are also different languages to communicate to computers with. These are called **programming languages**, and there are hundreds of them, each with their own styles and uses.\n",
        "\n",
        "For AI, the most popular programming language to use is Python. There are many reasons that people like to use Python, such as:\n",
        "\n",
        "*   It's fast and easy to write code\n",
        "*   Many great open-source **libraries**\n",
        "*   Active and growing community\n",
        "\n",
        "A programming library is a collection of code that someone else has written, that you can then use (so you don't have to reinvent the wheel). Many libraries are private and owned by specific companies, but other libraries are open-source, meaning that they can be freely and publicly used and contributed to. Python has a very large community of people who build and maintain open-source libraries.\n",
        "\n",
        "We'll learn more about libraries in Python throughout the summer, and you may frequently see the use of one particular library called **Scikit-Learn**. This library and **TensorFlow** are two of the most popular for programming artificial intelligence.\n",
        "\n",
        "As an additional note, programming languages have different version numbers which may affect how they're read and written. (Think of this like the difference between Ancient Greek and Modern Greek, and how a language changes over time.) For this and the following lessons, we will be specifically using **Python 3**.\n",
        "\n"
      ]
    },
    {
      "cell_type": "markdown",
      "metadata": {
        "id": "Dx2VX_zGT211"
      },
      "source": [
        "## Your First Line of Python\n",
        "\n",
        "Now let's jump into some programming! \n",
        "\n",
        "Click on the programming block below, and a play button will appear on the left. Click on the play button to run the line of Python code. If you had to guess, what do you think this line of code will do?"
      ]
    },
    {
      "cell_type": "code",
      "metadata": {
        "id": "SIzLXK_4EoS8",
        "colab": {
          "base_uri": "https://localhost:8080/"
        },
        "outputId": "7868ea20-fede-497a-84b1-2deb77175edb"
      },
      "source": [
        "print(\"I'm here! I'm coding!\")"
      ],
      "execution_count": null,
      "outputs": [
        {
          "output_type": "stream",
          "name": "stdout",
          "text": [
            "I'm here! I'm coding!\n"
          ]
        }
      ]
    },
    {
      "cell_type": "markdown",
      "metadata": {
        "id": "X-XaIznyFQ6s"
      },
      "source": [
        "Congratulations! You've just run your very first line of code at the AI4ALL program.\n",
        "\n",
        "![alt text](https://media.giphy.com/media/ely3apij36BJhoZ234/giphy.gif)\n",
        "\n",
        "Before we dig deeper into Python, let's get to know about the coding environment that we're using.\n"
      ]
    },
    {
      "cell_type": "markdown",
      "metadata": {
        "id": "aizuciOFSRZ0"
      },
      "source": [
        "## Intro to Jupyter Notebooks and Google Colabs\n",
        "\n",
        "Typically, to run Python code, you have to run it on your computer, using either the command line or a specific type of program called an IDE (integrated development environment). \n",
        "\n",
        "Instead, right now we're using a tool called **Jupyter Notebooks**, which in the past few years has been extremely popular in the data science and artificial intelligence communities to write and run code. In addition, Google has created a software called **Colaboratory** (Colabs for short), which allows us to run our Notebooks in Google Drive, just like with Google Docs or Google Sheets.\n",
        "\n",
        "**Let's try out Google Colabs by adding a _code block_ under this text. Click this text, and then on the top left of the web page, click the \"+ Code\" button.**"
      ]
    },
    {
      "cell_type": "code",
      "source": [
        "print(\"Hello world!\")"
      ],
      "metadata": {
        "colab": {
          "base_uri": "https://localhost:8080/"
        },
        "id": "O1v5q450-t9I",
        "outputId": "35a16a90-2343-4cb2-955b-8044bdbeeb0a"
      },
      "execution_count": null,
      "outputs": [
        {
          "output_type": "stream",
          "name": "stdout",
          "text": [
            "Hello world!\n"
          ]
        }
      ]
    },
    {
      "cell_type": "markdown",
      "metadata": {
        "id": "nAtVLq5GRUpi"
      },
      "source": [
        "\n",
        "\n",
        "---\n",
        "\n",
        "You can write new Python code in any of the code blocks within this Notebook. When you want to run the code that you've written, make sure you have the code block selected, and hit the Play button on the left side of the block.\n",
        "\n",
        "If you want to delete a code block, select it, and then click on the three dots on the right side of the block to show the \"Delete Cell\" option.\n",
        "\n",
        "Python code persists between code blocks within this Notebook. That means that if you write some code in one code block, it can affect future code blocks. When we talk about variables next, this means that if you declare a variable in one code block, you can still call it in a different code block afterwards.\n",
        "\n",
        "As you work more in Google Colabs over this program, you may use other functions, such as adding text blocks, rearranging cells, and maybe even learning some **Markdown**, which is a language used to help style text blocks.\n",
        "\n"
      ]
    },
    {
      "cell_type": "markdown",
      "metadata": {
        "id": "A145dPi1FUiI"
      },
      "source": [
        "## Your Very First Variable (at AI4ALL)\n",
        "\n",
        "In programming, we use a concept called a **variable** that's similar to what you have learned in math. Let's give it a try:"
      ]
    },
    {
      "cell_type": "code",
      "metadata": {
        "id": "Z8FlcLOPFxJe"
      },
      "source": [
        "x = 100"
      ],
      "execution_count": null,
      "outputs": []
    },
    {
      "cell_type": "markdown",
      "metadata": {
        "id": "5zKC-Rb2TsRm"
      },
      "source": [
        "When you run the cell above, you've **initialized** (created) a variable named `x` that you have **assigned** the value of 100. \n",
        "\n",
        "The next time you refer to `x` in your code, it will remember that it has been assigned 100. \n",
        "\n",
        "Variables are extremely useful in programming, and we'll see lots and lots of them moving forward!"
      ]
    },
    {
      "cell_type": "markdown",
      "metadata": {
        "id": "EhVneCRuF-qw"
      },
      "source": [
        "## Printing\n",
        "\n",
        "When we run a Python program, the user will only see what we decide to print to the screen. \n",
        "\n",
        "Notice that when we set `x = 100` earlier, nothing was printed back out. How can we make sure that the value we assign to a variable is correct? We can print it!"
      ]
    },
    {
      "cell_type": "code",
      "metadata": {
        "id": "SGboEhmDGLkQ",
        "colab": {
          "base_uri": "https://localhost:8080/"
        },
        "outputId": "495510a0-15af-47da-8f3a-6038e4cfccc3"
      },
      "source": [
        "y = 200\n",
        "print(y)"
      ],
      "execution_count": null,
      "outputs": [
        {
          "output_type": "stream",
          "name": "stdout",
          "text": [
            "200\n"
          ]
        }
      ]
    },
    {
      "cell_type": "markdown",
      "metadata": {
        "id": "agl-HIjaUch0"
      },
      "source": [
        "Try it out yourself! Add a line to the following code block to print the value of `z`."
      ]
    },
    {
      "cell_type": "code",
      "metadata": {
        "id": "CZzE--8kUgMI",
        "colab": {
          "base_uri": "https://localhost:8080/"
        },
        "outputId": "96c139e9-4a73-4ad4-e29e-cd8d6624a574"
      },
      "source": [
        "z = 1300\n",
        "# Add your line of code here & don't forget to hit Run when you're done!\n",
        "print(z)\n",
        "\n",
        "# By the way, when you add a hashtag to the front of your line, this tells\n",
        "# the coding environment to treat that line as a comment, so that you can\n",
        "# type out helpful notes for yourself. Great programmers leave comments on\n",
        "# their code to communicate information with other programmers!"
      ],
      "execution_count": null,
      "outputs": [
        {
          "output_type": "stream",
          "name": "stdout",
          "text": [
            "1300\n"
          ]
        }
      ]
    },
    {
      "cell_type": "markdown",
      "metadata": {
        "id": "fLAAGvkuWLjW"
      },
      "source": [
        "If we have multiple print commands in a row, they will print each on a separate line by default."
      ]
    },
    {
      "cell_type": "code",
      "metadata": {
        "id": "dIX2pxeOWSU4",
        "colab": {
          "base_uri": "https://localhost:8080/"
        },
        "outputId": "59469360-7475-4815-f66f-63daced01176"
      },
      "source": [
        "print(\"Hello there!\")\n",
        "print(\"This message will show up to the user.\")"
      ],
      "execution_count": null,
      "outputs": [
        {
          "output_type": "stream",
          "name": "stdout",
          "text": [
            "Hello there!\n",
            "This message will show up to the user.\n"
          ]
        }
      ]
    },
    {
      "cell_type": "markdown",
      "metadata": {
        "id": "BVY7e1QGWa4x"
      },
      "source": [
        "One thing that you will find useful is to be able to print out a message but also include the value of a variable in that message. For example:"
      ]
    },
    {
      "cell_type": "code",
      "metadata": {
        "id": "6TqMtz5fWsL-",
        "colab": {
          "base_uri": "https://localhost:8080/",
          "height": 34
        },
        "outputId": "77a8ff98-09c4-4da8-944f-e5028428db65"
      },
      "source": [
        "no_flowers = 5\n",
        "print(\"I have\", no_flowers, \"flowers.\")"
      ],
      "execution_count": null,
      "outputs": [
        {
          "output_type": "stream",
          "text": [
            "I have 5 flowers.\n"
          ],
          "name": "stdout"
        }
      ]
    },
    {
      "cell_type": "markdown",
      "metadata": {
        "id": "rYzhW61_W7-p"
      },
      "source": [
        "Notice that spaces were added between \"have\", \"5\", and \"flowers\" when we used the commas.\n",
        "\n",
        "In Python, there are many, many ways to format your print statements, and different programmers have different preferences for how they like to work with printing.\n",
        "\n",
        "One advanced way to format your print statements is as follows:"
      ]
    },
    {
      "cell_type": "code",
      "metadata": {
        "id": "J9qnv9eDXR7L",
        "colab": {
          "base_uri": "https://localhost:8080/",
          "height": 34
        },
        "outputId": "a2b53f8b-acad-42dc-dd8d-29ab89844540"
      },
      "source": [
        "no_flowers = 5\n",
        "print(\"I have {} flowers.\".format(no_flowers))"
      ],
      "execution_count": null,
      "outputs": [
        {
          "output_type": "stream",
          "text": [
            "I have 5 flowers.\n"
          ],
          "name": "stdout"
        }
      ]
    },
    {
      "cell_type": "markdown",
      "metadata": {
        "id": "K2u4DoJ9XddC"
      },
      "source": [
        "In the method above, the curly braces, `{}`, are used to tell Python to expect a variable there. We then specify what variable to expect by adding `.format(no_flowers)` after the message we are printing.\n",
        "\n",
        "If this line of code is confusing to look at right now, don't worry! We'll cover more Python concepts that will help you understand this line better (especially that `.format(no_flowers)` part) in the coming lessons."
      ]
    },
    {
      "cell_type": "code",
      "metadata": {
        "id": "OmJzbbHYz30m",
        "colab": {
          "base_uri": "https://localhost:8080/"
        },
        "outputId": "46ea5d38-a216-4fe1-ee42-0940f86a67ba"
      },
      "source": [
        "no_books = 100\n",
        "# Write a print statement below to say \"I own 100 books\", using the variable no_books\n",
        "print(\"I own {} books\".format(no_books))\n"
      ],
      "execution_count": null,
      "outputs": [
        {
          "output_type": "stream",
          "name": "stdout",
          "text": [
            "I own 100 books\n"
          ]
        }
      ]
    },
    {
      "cell_type": "markdown",
      "metadata": {
        "id": "aW9avmXMGIk1"
      },
      "source": [
        "## Data Types\n",
        "\n",
        "So far, we've only been assigning integers to our variables, like we see in math. In Python, we can actually assign many more types of data to our variables!\n",
        "\n",
        "For example:"
      ]
    },
    {
      "cell_type": "code",
      "metadata": {
        "id": "JXHccv5bF0R3",
        "colab": {
          "base_uri": "https://localhost:8080/"
        },
        "outputId": "2498be13-2b4d-4ea5-a718-c4f923b51521"
      },
      "source": [
        "some_string = \"This is type of data is called a string!\"\n",
        "some_string_2 = 'This is also a string; notice we can use both quote marks and apostrophes'\n",
        "\n",
        "# We can also assign numbers with decimal points to our variables\n",
        "some_number = 13.45\n",
        "\n",
        "# Another type of variable is called a boolean, which only holds the value of True or False\n",
        "# We'll talk more about these as we get to conditionals, in a later section\n",
        "some_bool = True\n",
        "\n",
        "print(\"Practice adding some print statements below to print the other variables!\")\n",
        "print(some_string)"
      ],
      "execution_count": null,
      "outputs": [
        {
          "output_type": "stream",
          "name": "stdout",
          "text": [
            "Practice adding some print statements below to print the other variables!\n",
            "This is type of data is called a string!\n"
          ]
        }
      ]
    },
    {
      "cell_type": "markdown",
      "metadata": {
        "id": "Qlk179SBGShj"
      },
      "source": [
        "## Variable Naming Rules\n",
        "\n",
        "Variables are case-sensitive. That means a variable named `thing` and one named `Thing` are different! Let's see why this matters by running the following code:"
      ]
    },
    {
      "cell_type": "code",
      "metadata": {
        "id": "Ii_G-7RhVYqN",
        "colab": {
          "base_uri": "https://localhost:8080/",
          "height": 181
        },
        "outputId": "210f6416-eda3-4009-92ba-619a0ee12b82"
      },
      "source": [
        "thing = 1\n",
        "print(Thing)"
      ],
      "execution_count": null,
      "outputs": [
        {
          "output_type": "error",
          "ename": "NameError",
          "evalue": "ignored",
          "traceback": [
            "\u001b[0;31m---------------------------------------------------------------------------\u001b[0m",
            "\u001b[0;31mNameError\u001b[0m                                 Traceback (most recent call last)",
            "\u001b[0;32m<ipython-input-12-b46ab614426e>\u001b[0m in \u001b[0;36m<module>\u001b[0;34m()\u001b[0m\n\u001b[1;32m      1\u001b[0m \u001b[0mthing\u001b[0m \u001b[0;34m=\u001b[0m \u001b[0;36m1\u001b[0m\u001b[0;34m\u001b[0m\u001b[0;34m\u001b[0m\u001b[0m\n\u001b[0;32m----> 2\u001b[0;31m \u001b[0mprint\u001b[0m\u001b[0;34m(\u001b[0m\u001b[0mThing\u001b[0m\u001b[0;34m)\u001b[0m\u001b[0;34m\u001b[0m\u001b[0;34m\u001b[0m\u001b[0m\n\u001b[0m",
            "\u001b[0;31mNameError\u001b[0m: name 'Thing' is not defined"
          ]
        }
      ]
    },
    {
      "cell_type": "markdown",
      "metadata": {
        "id": "5MrWMUhlVekt"
      },
      "source": [
        "Oh no! What happens when you run that code block? You'll see a `NameError` pop up, saying that `'Thing' is not defined`. This happens because we initialized a variable named `thing` but not one named `Thing` with the uppercase T.\n",
        "\n",
        "As you have seen in earlier examples, variables also can have letters, numbers, and underscores included in them, but with certain restrictions.\n",
        "\n",
        "Run the following code blocks to see if they work or if they raise errors:"
      ]
    },
    {
      "cell_type": "code",
      "metadata": {
        "id": "FrJUU4k4WFgi"
      },
      "source": [
        "thing_2 = 5"
      ],
      "execution_count": null,
      "outputs": []
    },
    {
      "cell_type": "code",
      "metadata": {
        "id": "bj-VX0k8WRmd",
        "colab": {
          "base_uri": "https://localhost:8080/",
          "height": 130
        },
        "outputId": "c17d07b5-0ed4-4888-f147-dfddba26484b"
      },
      "source": [
        "thing-2 = 5"
      ],
      "execution_count": null,
      "outputs": [
        {
          "output_type": "error",
          "ename": "SyntaxError",
          "evalue": "ignored",
          "traceback": [
            "\u001b[0;36m  File \u001b[0;32m\"<ipython-input-11-cfe80068f3a2>\"\u001b[0;36m, line \u001b[0;32m1\u001b[0m\n\u001b[0;31m    thing-2 = 5\u001b[0m\n\u001b[0m               ^\u001b[0m\n\u001b[0;31mSyntaxError\u001b[0m\u001b[0;31m:\u001b[0m can't assign to operator\n"
          ]
        }
      ]
    },
    {
      "cell_type": "code",
      "metadata": {
        "id": "9pGaJumiWTX9",
        "colab": {
          "base_uri": "https://localhost:8080/",
          "height": 130
        },
        "outputId": "1892ec50-ce0c-43fe-8bd5-fae7bf8d319a"
      },
      "source": [
        "2_thing = 5"
      ],
      "execution_count": null,
      "outputs": [
        {
          "output_type": "error",
          "ename": "SyntaxError",
          "evalue": "ignored",
          "traceback": [
            "\u001b[0;36m  File \u001b[0;32m\"<ipython-input-12-5c288ad0de83>\"\u001b[0;36m, line \u001b[0;32m1\u001b[0m\n\u001b[0;31m    2_thing = 5\u001b[0m\n\u001b[0m     ^\u001b[0m\n\u001b[0;31mSyntaxError\u001b[0m\u001b[0;31m:\u001b[0m invalid token\n"
          ]
        }
      ]
    },
    {
      "cell_type": "code",
      "metadata": {
        "id": "2T4xn5M6WWZg",
        "colab": {
          "base_uri": "https://localhost:8080/",
          "height": 130
        },
        "outputId": "ae0151a7-0ab9-4565-e6f6-14eb2201adf0"
      },
      "source": [
        "some variable = 5"
      ],
      "execution_count": null,
      "outputs": [
        {
          "output_type": "error",
          "ename": "SyntaxError",
          "evalue": "ignored",
          "traceback": [
            "\u001b[0;36m  File \u001b[0;32m\"<ipython-input-13-bbc8e825cf71>\"\u001b[0;36m, line \u001b[0;32m1\u001b[0m\n\u001b[0;31m    some variable = 5\u001b[0m\n\u001b[0m                ^\u001b[0m\n\u001b[0;31mSyntaxError\u001b[0m\u001b[0;31m:\u001b[0m invalid syntax\n"
          ]
        }
      ]
    },
    {
      "cell_type": "markdown",
      "metadata": {
        "id": "4z3D17hHWiDk"
      },
      "source": [
        "After running the above code blocks, you should see that you:\n",
        "\n",
        "\n",
        "*   Can only start a variable name with a letter or underscore (no numbers)\n",
        "*   Can't include a space in a variable name\n",
        "*   Can't use any special characters (like `-` or `+`) or punctuation (like `.` or `,`)\n",
        "\n",
        "Finally, you cannot use \"reserved keywords\" as variable names. \"Reserved keywords\" are special words in the Python language that do specific things in your code. For example, one reserved keyword is `for`. Notice how it's colored purple in the code block below:"
      ]
    },
    {
      "cell_type": "code",
      "metadata": {
        "id": "y9i_XQ2UXS10",
        "colab": {
          "base_uri": "https://localhost:8080/",
          "height": 130
        },
        "outputId": "9d2db7b0-2e4c-4d09-ff95-dd6afec12c59"
      },
      "source": [
        "for = 10"
      ],
      "execution_count": null,
      "outputs": [
        {
          "output_type": "error",
          "ename": "SyntaxError",
          "evalue": "ignored",
          "traceback": [
            "\u001b[0;36m  File \u001b[0;32m\"<ipython-input-21-597287a2d762>\"\u001b[0;36m, line \u001b[0;32m1\u001b[0m\n\u001b[0;31m    for = 10\u001b[0m\n\u001b[0m        ^\u001b[0m\n\u001b[0;31mSyntaxError\u001b[0m\u001b[0;31m:\u001b[0m invalid syntax\n"
          ]
        }
      ]
    },
    {
      "cell_type": "markdown",
      "metadata": {
        "id": "lSJQWGgUXYXV"
      },
      "source": [
        "If you run the above code block, it will raise an error as expected."
      ]
    },
    {
      "cell_type": "code",
      "metadata": {
        "id": "274hJJg-0Xzc"
      },
      "source": [
        "# Initialize your own variable below (give it any valid name) and assign it the value \"Hello!\"\n"
      ],
      "execution_count": null,
      "outputs": []
    },
    {
      "cell_type": "markdown",
      "metadata": {
        "id": "cl4H_EeSGTw9"
      },
      "source": [
        "## Math in Python\n",
        "\n",
        "Python also makes it _very_ easy to do math without calculating it ourselves. In artificial intelligence work, we often deal with very complex equations and numbers, sometimes even dealing with billions of numbers at once, and it can be nearly impossible to compute by hand! This is where programming really helps us out, so that we're not left feeling like:\n",
        "\n",
        "![alt text](https://media.giphy.com/media/8lPSqcjcNjymIOS4Pm/giphy.gif)\n",
        "\n",
        "For example, if someone asks us to multiply 35 and 67, we could type it right into Python:"
      ]
    },
    {
      "cell_type": "code",
      "metadata": {
        "id": "5b6juVn90xbc",
        "colab": {
          "base_uri": "https://localhost:8080/"
        },
        "outputId": "2f87988a-f24d-49c8-83c2-ac98b717b44b"
      },
      "source": [
        "print(35*67)"
      ],
      "execution_count": null,
      "outputs": [
        {
          "output_type": "stream",
          "name": "stdout",
          "text": [
            "2345\n"
          ]
        }
      ]
    },
    {
      "cell_type": "markdown",
      "metadata": {
        "id": "m1XLpRkT1ACS"
      },
      "source": [
        "When we run the code above, we can print out the result of multiplying 35 and 67. But what if we need to keep this answer for future calculations? We can save it as a variable and re-use it!"
      ]
    },
    {
      "cell_type": "code",
      "metadata": {
        "id": "WXQ-xXAJF6QT",
        "colab": {
          "base_uri": "https://localhost:8080/"
        },
        "outputId": "089c5bc3-8cfc-494e-b116-2c0507e52d4f"
      },
      "source": [
        "a = 35 * 60\n",
        "b = 4\n",
        "c = a * b\n",
        "print(c)"
      ],
      "execution_count": null,
      "outputs": [
        {
          "output_type": "stream",
          "name": "stdout",
          "text": [
            "8400\n"
          ]
        }
      ]
    },
    {
      "cell_type": "markdown",
      "metadata": {
        "id": "qImtIYnqGh74"
      },
      "source": [
        "### Math Operators\n",
        "\n",
        "So what mathematical operations can we do in Python, and how do we do them? Some examples below:"
      ]
    },
    {
      "cell_type": "code",
      "metadata": {
        "id": "pSMipR2J1b8H"
      },
      "source": [
        "addition = 3 + 5\n",
        "subtraction = 10 - 2\n",
        "multiplication = 4 * 9\n",
        "division = 121 / 11\n",
        "exponentiation = 3 ** 2\n",
        "\n",
        "# Notice that if we run this cell block, there is no output (so we can't check our results)\n",
        "# Add a print statement so you can check the calculations are as expected!\n"
      ],
      "execution_count": null,
      "outputs": []
    },
    {
      "cell_type": "markdown",
      "metadata": {
        "id": "ieXkjVSP18iY"
      },
      "source": [
        "Additionally, one math operation you might not have seen before is called **modulo** and is quite useful when programming. What modulo does is it returns the remainder after you divide.\n",
        "\n",
        "For example:"
      ]
    },
    {
      "cell_type": "code",
      "metadata": {
        "id": "3ndlIJZY2HzW",
        "colab": {
          "base_uri": "https://localhost:8080/"
        },
        "outputId": "241ed6f6-bdf0-4b70-f446-15786fadb710"
      },
      "source": [
        "modulo = 35 % 2\n",
        "print(modulo)\n",
        "\n",
        "\n",
        "\n",
        "\n",
        "# When you divide 35 by 2, you get 17 with a remainder of 1\n",
        "# The modulo (%) operator will return that 1"
      ],
      "execution_count": null,
      "outputs": [
        {
          "output_type": "stream",
          "name": "stdout",
          "text": [
            "1\n"
          ]
        }
      ]
    },
    {
      "cell_type": "code",
      "metadata": {
        "id": "tCGj0nGC2YF4",
        "colab": {
          "base_uri": "https://localhost:8080/"
        },
        "outputId": "3af54d0f-361e-4926-a64f-cadd83fd9d6e"
      },
      "source": [
        "# What will the following return?\n",
        "mod = 44 % 10\n",
        "print(mod)"
      ],
      "execution_count": null,
      "outputs": [
        {
          "output_type": "stream",
          "name": "stdout",
          "text": [
            "4\n"
          ]
        }
      ]
    },
    {
      "cell_type": "code",
      "source": [
        "mod = -4 % 10\n",
        "print(mod)"
      ],
      "metadata": {
        "colab": {
          "base_uri": "https://localhost:8080/"
        },
        "id": "VG_pbWgIBxGg",
        "outputId": "ea402fc6-aef1-438a-8d5e-f4a9228cdf08"
      },
      "execution_count": null,
      "outputs": [
        {
          "output_type": "stream",
          "name": "stdout",
          "text": [
            "6\n"
          ]
        }
      ]
    },
    {
      "cell_type": "code",
      "source": [
        "mod = 4 % -10\n",
        "print(mod)"
      ],
      "metadata": {
        "colab": {
          "base_uri": "https://localhost:8080/"
        },
        "id": "iSgZpmksB3oK",
        "outputId": "eadd58fc-e009-46f3-846c-b216fea9d1e6"
      },
      "execution_count": null,
      "outputs": [
        {
          "output_type": "stream",
          "name": "stdout",
          "text": [
            "-6\n"
          ]
        }
      ]
    },
    {
      "cell_type": "markdown",
      "metadata": {
        "id": "CeJcYlEQ2zB6"
      },
      "source": [
        "### Order of Operations and Parentheses\n",
        "\n",
        "Order of operations are respected in Python, and you can use parentheses as expected."
      ]
    },
    {
      "cell_type": "code",
      "metadata": {
        "id": "JYzFKAQy266e",
        "colab": {
          "base_uri": "https://localhost:8080/"
        },
        "outputId": "6959b3ec-331a-48bc-d169-6b783e08c915"
      },
      "source": [
        "some_number = (47 + 3) * 2 / 10\n",
        "print(some_number)"
      ],
      "execution_count": null,
      "outputs": [
        {
          "output_type": "stream",
          "name": "stdout",
          "text": [
            "10.0\n"
          ]
        }
      ]
    },
    {
      "cell_type": "markdown",
      "metadata": {
        "id": "WIB9q_WU3FU8"
      },
      "source": [
        "You cannot, however, do implicit multiplication with parentheses. If you run the code below, it will return an error:"
      ]
    },
    {
      "cell_type": "code",
      "metadata": {
        "id": "1LbbzbKF3Klf",
        "colab": {
          "base_uri": "https://localhost:8080/",
          "height": 164
        },
        "outputId": "fdaf6772-dbbb-479b-91a6-846f11208db5"
      },
      "source": [
        "some_number_2 = 2 (5 + 5)"
      ],
      "execution_count": null,
      "outputs": [
        {
          "output_type": "error",
          "ename": "TypeError",
          "evalue": "ignored",
          "traceback": [
            "\u001b[0;31m---------------------------------------------------------------------------\u001b[0m",
            "\u001b[0;31mTypeError\u001b[0m                                 Traceback (most recent call last)",
            "\u001b[0;32m<ipython-input-22-fcd17ba6befa>\u001b[0m in \u001b[0;36m<module>\u001b[0;34m()\u001b[0m\n\u001b[0;32m----> 1\u001b[0;31m \u001b[0msome_number_2\u001b[0m \u001b[0;34m=\u001b[0m \u001b[0;36m2\u001b[0m \u001b[0;34m(\u001b[0m\u001b[0;36m5\u001b[0m \u001b[0;34m+\u001b[0m \u001b[0;36m5\u001b[0m\u001b[0;34m)\u001b[0m\u001b[0;34m\u001b[0m\u001b[0;34m\u001b[0m\u001b[0m\n\u001b[0m",
            "\u001b[0;31mTypeError\u001b[0m: 'int' object is not callable"
          ]
        }
      ]
    },
    {
      "cell_type": "markdown",
      "metadata": {
        "id": "yjv3mJ9Z3dWS"
      },
      "source": [
        "### An Arithmetic Shortcut\n",
        "\n",
        "So far, we've only been initializing new variables. Variables in Python, unlike in math, can be updated to hold new values. For example:"
      ]
    },
    {
      "cell_type": "code",
      "metadata": {
        "id": "34BCUaoC3r6N",
        "colab": {
          "base_uri": "https://localhost:8080/"
        },
        "outputId": "d8118a56-f4bd-42d0-a463-d24dded3eaa4"
      },
      "source": [
        "a = 10\n",
        "print(a)\n",
        "a = 20\n",
        "print(a)"
      ],
      "execution_count": null,
      "outputs": [
        {
          "output_type": "stream",
          "name": "stdout",
          "text": [
            "10\n",
            "20\n"
          ]
        }
      ]
    },
    {
      "cell_type": "markdown",
      "metadata": {
        "id": "2v7QdEfq3wSE"
      },
      "source": [
        "On the third line in the code block above, `a` is reassigned the value of 20.\n",
        "\n",
        "What if we wanted to add 10 to the value of `a`? There is an arithmetic shortcut we can use:"
      ]
    },
    {
      "cell_type": "code",
      "metadata": {
        "id": "WZCsT3Xd37N2",
        "colab": {
          "base_uri": "https://localhost:8080/",
          "height": 35
        },
        "outputId": "f83fa7e7-5e20-479a-ff1e-a704ae986354"
      },
      "source": [
        "a = 20\n",
        "a += 10\n",
        "print(a)\n",
        "# What do you expect this to print?"
      ],
      "execution_count": null,
      "outputs": [
        {
          "output_type": "stream",
          "text": [
            "30\n"
          ],
          "name": "stdout"
        }
      ]
    },
    {
      "cell_type": "markdown",
      "metadata": {
        "id": "z6wdIPsK4B4z"
      },
      "source": [
        "A longer example, with other operations. What do you think the final value should be? Try to calculate it yourself before adding a print command to test your answer:"
      ]
    },
    {
      "cell_type": "code",
      "metadata": {
        "id": "6cTxAUwG4KBd"
      },
      "source": [
        "unknown = 5\n",
        "unknown += 5\n",
        "unknown -= 2\n",
        "unknown *= 8\n",
        "unknown /= 4\n",
        "unknown %= 3\n"
      ],
      "execution_count": null,
      "outputs": []
    },
    {
      "cell_type": "markdown",
      "metadata": {
        "id": "TFEzqNKE5a7s"
      },
      "source": [
        "## User Input\n",
        "\n",
        "Up until now, we've worked on printing, creating variables, and doing some math. All of that is useful, but what makes many programs interesting and valuable are that they can take in user input and change how they run.\n",
        "\n",
        "To get user input, we do the following:"
      ]
    },
    {
      "cell_type": "code",
      "metadata": {
        "id": "H6dLOIUc5x0S",
        "colab": {
          "base_uri": "https://localhost:8080/",
          "height": 54
        },
        "outputId": "bd96fd50-5493-4d9d-c57d-25f4a73a3537"
      },
      "source": [
        "input(\"Type something and hit enter! \")"
      ],
      "execution_count": null,
      "outputs": [
        {
          "name": "stdout",
          "output_type": "stream",
          "text": [
            "Type something and hit enter! hey\n"
          ]
        },
        {
          "output_type": "execute_result",
          "data": {
            "text/plain": [
              "'hey'"
            ],
            "application/vnd.google.colaboratory.intrinsic+json": {
              "type": "string"
            }
          },
          "metadata": {},
          "execution_count": 25
        }
      ]
    },
    {
      "cell_type": "markdown",
      "metadata": {
        "id": "YbQWIK6t56L3"
      },
      "source": [
        "We've gotten user input, but how do we remember it and use it in the future?\n",
        "\n",
        "As always, let's store it as a variable."
      ]
    },
    {
      "cell_type": "code",
      "metadata": {
        "id": "XJXEMyDn6EFb",
        "colab": {
          "base_uri": "https://localhost:8080/"
        },
        "outputId": "28e6ba3b-c495-4158-a881-7531f25257ae"
      },
      "source": [
        "answer = input(\"Tell me something: \")\n",
        "print(\"You said:\", answer)"
      ],
      "execution_count": null,
      "outputs": [
        {
          "output_type": "stream",
          "name": "stdout",
          "text": [
            "Tell me something: hmm\n",
            "You said: hmm\n"
          ]
        }
      ]
    },
    {
      "cell_type": "markdown",
      "metadata": {
        "id": "zhpJRcuS6Q4F"
      },
      "source": [
        "In fact, a very early version of AI (that wasn't _really_ AI) called ELIZA mainly just took user input and returned it in a way that tried to mimic how a psychologist might communicate with you:"
      ]
    },
    {
      "cell_type": "code",
      "metadata": {
        "id": "t7VRUaHi6h0y",
        "colab": {
          "base_uri": "https://localhost:8080/",
          "height": 51
        },
        "outputId": "a341cb77-08c9-4629-bd7f-dde77d903533"
      },
      "source": [
        "topic = input(\"What topic is on your mind? \")\n",
        "print(\"And how does\", topic, \"make you feel?\")"
      ],
      "execution_count": null,
      "outputs": [
        {
          "output_type": "stream",
          "text": [
            "What topic is on your mind? ice cream\n",
            "And how does ice cream make you feel?\n"
          ],
          "name": "stdout"
        }
      ]
    },
    {
      "cell_type": "markdown",
      "metadata": {
        "id": "b7iSRfpWQCmP"
      },
      "source": [
        "## If Statements (Conditionals)\n",
        "\n",
        "How can we change how the program acts based on input from the user? We can make use of a concept called **conditionals**, which come from the idea that for certain _conditions_, you do certain actions.\n",
        "\n",
        "What do you think this following line of code does? Once you have a guess, give it a run a few times, with different inputs:\n"
      ]
    },
    {
      "cell_type": "code",
      "metadata": {
        "id": "_eY16gH65Z7X"
      },
      "source": [
        "num = int(input(\"Input a number from 1 to 10: \"))\n",
        "\n",
        "if num > 5:\n",
        "    print(\"This was a good number!\")\n"
      ],
      "execution_count": null,
      "outputs": []
    },
    {
      "cell_type": "markdown",
      "metadata": {
        "id": "k4HhhrgI7r0a"
      },
      "source": [
        "Notice that in the code block above, the print statement only happens for certain numbers that are input. We happen to use the comparison operator `>` to compare `num` and `5` in this particular case. All of the comparison operators are as follows:\n",
        "\n",
        "\n",
        "* `==` to check for equality\n",
        "* `!=` to check for inequality\n",
        "* `>` greater than\n",
        "*   `<` less than\n",
        "*   `>=` greater than or equal to\n",
        "* `<=` less than or equal to\n",
        "\n",
        "It's particularly important to note that if you are checking if something is equal, you must use `==` and not just a single `=`, because a single `=` in Python is interpretted as assigning a value to a variable.\n",
        "\n",
        "We'll put this to use in the code block below. Don't be afraid to ask for help!\n",
        "\n"
      ]
    },
    {
      "cell_type": "code",
      "metadata": {
        "id": "ImWSfqzt9CS7"
      },
      "source": [
        "num = int(input(\"Input a number from 1 to 10: \"))\n",
        "\n",
        "# Let's give it a try! Finish the following line so that \"You got it!\" only prints when num equals 3\n",
        "if \n",
        "  print(\"You got it!\")"
      ],
      "execution_count": null,
      "outputs": []
    },
    {
      "cell_type": "markdown",
      "metadata": {
        "id": "Gw6Q51KP9pnx"
      },
      "source": [
        "What if we wanted to print a different message if they got the number wrong? It would take a lot of time to write a condition for every single other option, so instead we can make use of a different piece of code:\n",
        "\n",
        "(Spoilers for the previous code block, so be sure to have finished that before looking at the following.)"
      ]
    },
    {
      "cell_type": "code",
      "metadata": {
        "id": "rwKvZoVc94tO",
        "colab": {
          "base_uri": "https://localhost:8080/",
          "height": 51
        },
        "outputId": "09944e26-f233-4cca-a1dd-7fb5c4dce04a"
      },
      "source": [
        "num = int(input(\"Input a number from 1 to 10: \"))\n",
        "\n",
        "if num == 5:\n",
        "  print(\"You got it!\")\n",
        "else:\n",
        "  print(\"Try again!\")"
      ],
      "execution_count": null,
      "outputs": [
        {
          "output_type": "stream",
          "text": [
            "Input a number from 1 to 103\n",
            "Try again!\n"
          ],
          "name": "stdout"
        }
      ]
    },
    {
      "cell_type": "markdown",
      "metadata": {
        "id": "owQaUNuH-NyG"
      },
      "source": [
        "We can also include some math in our if statement, to help check for specific conditions. For example, a very popular use of the modulo operator is to check if a number is even or odd, and we can combine this with an if statement:"
      ]
    },
    {
      "cell_type": "code",
      "metadata": {
        "id": "iaTdt45N-kZC",
        "colab": {
          "base_uri": "https://localhost:8080/",
          "height": 51
        },
        "outputId": "5bef9b3c-0714-457f-f707-4467f6d371f2"
      },
      "source": [
        "num = int(input(\"Input a number from 1 to 100: \"))\n",
        "\n",
        "if num % 2 == 0:\n",
        "  print(\"You inputted an even number.\")\n",
        "elif num - 5 == 0:\n",
        "  print(\"num minus 5 \")\n",
        "else:\n",
        "  print(\"You inputted an odd number.\")"
      ],
      "execution_count": null,
      "outputs": [
        {
          "output_type": "stream",
          "text": [
            "Input a number from 1 to 10055\n",
            "You inputted an odd number.\n"
          ],
          "name": "stdout"
        }
      ]
    },
    {
      "cell_type": "markdown",
      "metadata": {
        "id": "Hw0xFruG-wr5"
      },
      "source": [
        "So how does this work?\n",
        "\n",
        "Because modulo returns the remainder after dividing by 2, we know that all even numbers will have a remainder of 0 and all odd numbers will have a remainder of 1. Our if-statement checks to see that if after `num % 2` you get the result of 0, you know that `num` is an even number.\n",
        "\n",
        "There are many more uses of if-statements, and we'll see that this is one of the most useful fundamental concepts in programming that helps us create meaningful programs."
      ]
    },
    {
      "cell_type": "markdown",
      "metadata": {
        "id": "4_VBcdGR_26X"
      },
      "source": [
        "### A Note on Indenting\n",
        "\n",
        "You may have noticed in all of the code examples above that there is a single indent for the line that comes after the if-statement condition. Why might that be?\n",
        "\n",
        "Try running the following code to see what happens:"
      ]
    },
    {
      "cell_type": "code",
      "metadata": {
        "id": "ARmPnYh3AGc-"
      },
      "source": [
        "x = 5\n",
        "\n",
        "if x < 2:\n",
        "  print(\"Well, we know this will not print...\")\n",
        "  print(\"But what about this?\")"
      ],
      "execution_count": null,
      "outputs": []
    },
    {
      "cell_type": "markdown",
      "metadata": {
        "id": "ZJGrCiGQAO6z"
      },
      "source": [
        "Compare it with the following:"
      ]
    },
    {
      "cell_type": "code",
      "metadata": {
        "id": "zvroZsG_AQSN",
        "colab": {
          "base_uri": "https://localhost:8080/",
          "height": 34
        },
        "outputId": "325360e5-f384-43d6-db7e-008efba514cc"
      },
      "source": [
        "x = 5\n",
        "\n",
        "if x < 2:\n",
        "  print(\"Well, we know this will not print...\")\n",
        "print(\"But what about this?\")"
      ],
      "execution_count": null,
      "outputs": [
        {
          "output_type": "stream",
          "text": [
            "But what about this?\n"
          ],
          "name": "stdout"
        }
      ]
    },
    {
      "cell_type": "markdown",
      "metadata": {
        "id": "2ktpJ4NPAWG2"
      },
      "source": [
        "What do you notice is the difference between the two code blocks?"
      ]
    },
    {
      "cell_type": "markdown",
      "metadata": {
        "id": "PmMDVxleAd1R"
      },
      "source": [
        "We use indenting to tell Python which block of code should be run as part of the conditional, and which part comes after the conditional. \n",
        "\n",
        "Not all programming languages use indentation for this -- for example, a different programming language called JavaScript uses the curly braces `{}` to tell the computer that everything inside the curly braces should be run if the condition is true, and everything afterwards will be run regardless of the conditional."
      ]
    },
    {
      "cell_type": "code",
      "metadata": {
        "id": "H5URZNxgBDgx",
        "colab": {
          "base_uri": "https://localhost:8080/",
          "height": 34
        },
        "outputId": "e961ebdb-5340-4213-d68a-0c893a4866cf"
      },
      "source": [
        "# One more example just to be clear!\n",
        "y = 100\n",
        "\n",
        "# Do you remember what this following comparison operator does?\n",
        "if y != 100:\n",
        "  print(\"Will this line print?\")\n",
        "  print(\"How about this line?\")\n",
        "  print(\"Let's add one more line just in case.\")\n",
        "print(\"Now will it print?\")"
      ],
      "execution_count": null,
      "outputs": [
        {
          "output_type": "stream",
          "text": [
            "Now will it print?\n"
          ],
          "name": "stdout"
        }
      ]
    },
    {
      "cell_type": "markdown",
      "metadata": {
        "id": "sSht1HzSQJdn"
      },
      "source": [
        "# Lists\n",
        "\n",
        "There are many ways in Python where we can store many different things in one single variable. Just like in the real world, we often want to be able to make lists in Python. Imagine these like to-do lists, shopping lists, or lists to keep track of a set of similar things.\n",
        "\n",
        "![alt text](https://media.giphy.com/media/MJ4Qi9dSACpLG/giphy.gif)"
      ]
    },
    {
      "cell_type": "code",
      "metadata": {
        "id": "WUeq84uACcXv"
      },
      "source": [
        "# The following is a list in Python:\n",
        "things_to_do = [\"water plants\", \"take out trash\", \"mow law\", \"prepare dinner\"]"
      ],
      "execution_count": null,
      "outputs": []
    },
    {
      "cell_type": "code",
      "source": [
        "things_to_do += [\"have fun\"]"
      ],
      "metadata": {
        "id": "w-MunsL9ElAr"
      },
      "execution_count": null,
      "outputs": []
    },
    {
      "cell_type": "markdown",
      "metadata": {
        "id": "YKWBRIoeC2EA"
      },
      "source": [
        "We use the square brackets `[]` to show that we're using a list in Python. Lists can be a mixture of different data types, like:"
      ]
    },
    {
      "cell_type": "code",
      "metadata": {
        "id": "zT5HBPDtDAi6",
        "colab": {
          "base_uri": "https://localhost:8080/",
          "height": 34
        },
        "outputId": "6c58152c-15f0-4358-dbd8-1440f3ca950e"
      },
      "source": [
        "some_random_list = [5, \"something\", True, 4.5, \"okay\"]\n",
        "\n",
        "# To test if something is in a list, we use the operator 'in'\n",
        "\n",
        "if 5 in some_random_list:\n",
        "  print(\"The number 5 is in this list!\")"
      ],
      "execution_count": null,
      "outputs": [
        {
          "output_type": "stream",
          "text": [
            "The number 5 is in this list!\n"
          ],
          "name": "stdout"
        }
      ]
    },
    {
      "cell_type": "code",
      "metadata": {
        "id": "oyjb9WpgDb9z"
      },
      "source": [
        "# Fill in the list below so that the conditional will be true!\n",
        "your_list = [ ]\n",
        "x = 42\n",
        "\n",
        "if x in your_list:\n",
        "  print(\"The value of x was found in your list.\")"
      ],
      "execution_count": null,
      "outputs": []
    },
    {
      "cell_type": "markdown",
      "metadata": {
        "id": "4agTX3VRJ203"
      },
      "source": [
        "### Indexing into a list\n",
        "\n",
        "What if we wanted to get a specific **element** of a list? We can do the following:"
      ]
    },
    {
      "cell_type": "code",
      "metadata": {
        "id": "wZwBL9fTKN-g",
        "colab": {
          "base_uri": "https://localhost:8080/"
        },
        "outputId": "21a5f04c-91d2-4e6f-b334-3d16e5bb3670"
      },
      "source": [
        "some_list = ['a', 'b', 'c']\n",
        "print(some_list[1])\n",
        "print(some_list[-2])\n",
        "print(some_list[1:])\n",
        "# What do you expect this to print?"
      ],
      "execution_count": null,
      "outputs": [
        {
          "output_type": "stream",
          "name": "stdout",
          "text": [
            "b\n",
            "c\n"
          ]
        }
      ]
    },
    {
      "cell_type": "markdown",
      "metadata": {
        "id": "rYah0sMUKSww"
      },
      "source": [
        "In Python, we actually start counting from 0, not 1. So the \"first\" element of the list would be `some_list[0]`. The number that we use is called the **index** of the element. (So element `a` would have the index of 0.)"
      ]
    },
    {
      "cell_type": "code",
      "metadata": {
        "id": "zM6ZxKl5Kdwe"
      },
      "source": [
        "# Print the 'e' from the list using indexing\n",
        "random_list = [3, 5, 'blob', 'e']"
      ],
      "execution_count": null,
      "outputs": []
    },
    {
      "cell_type": "markdown",
      "metadata": {
        "id": "IDNz636mQKJq"
      },
      "source": [
        "## Loops\n",
        "\n",
        "Sometimes we want to repeat the same operation many times. For example, say we wanted to print all of the multiples of 7 up to 100. How could we do this?\n",
        "\n",
        "One way is to manually calculate all of the multiples and write `print(7)`, then `print(14)`, and continue until we've printed all of them out. But this takes lots of time to calculate and type out, and we're likely to make errors in this way.\n",
        "\n",
        "Instead, we can use something called a while loop:"
      ]
    },
    {
      "cell_type": "code",
      "metadata": {
        "id": "mQUIZgfoEVyA",
        "colab": {
          "base_uri": "https://localhost:8080/",
          "height": 255
        },
        "outputId": "d6c233c8-72bf-4909-b4d1-9136abd8536e"
      },
      "source": [
        "num = 7\n",
        "while num < 100:\n",
        "  print(num)\n",
        "  num += 7"
      ],
      "execution_count": null,
      "outputs": [
        {
          "output_type": "stream",
          "text": [
            "7\n",
            "14\n",
            "21\n",
            "28\n",
            "35\n",
            "42\n",
            "49\n",
            "56\n",
            "63\n",
            "70\n",
            "77\n",
            "84\n",
            "91\n",
            "98\n"
          ],
          "name": "stdout"
        }
      ]
    },
    {
      "cell_type": "markdown",
      "metadata": {
        "id": "T7jnj-BhE8dX"
      },
      "source": [
        "On line 2 in the code above, we check to see if the variable `num` is less than 100. If it is, we will run the two indented lines of code, which print `num` and also increase it by 7. This will continue until `num` is greater than 100, and stop repeating, which we see from running the code.\n",
        "\n",
        "Loops are a very useful way to repeat the same task over and over, often with just a small thing changed on each **iteration**, which is what we call one cycle of the loop. If you feel like you're doing a lot of copying and pasting of code, this is often a sign that you can potentially replace things with a loop."
      ]
    },
    {
      "cell_type": "markdown",
      "metadata": {
        "id": "rnRBRs2fFtWC"
      },
      "source": [
        "### For Loops\n",
        "\n",
        "One particular type of loop is the for loop. It has many uses, such as with lists:"
      ]
    },
    {
      "cell_type": "code",
      "metadata": {
        "id": "azpbfV1ZF1Pz",
        "colab": {
          "base_uri": "https://localhost:8080/"
        },
        "outputId": "6ac6b28c-8ff4-4c6c-b7dc-5d26f6339b5e"
      },
      "source": [
        "things_to_do = [\"water plants\", \"take out trash\", \"mow law\", \"prepare dinner\"]\n",
        "\n",
        "for task in things_to_do:\n",
        "  print(\"Now doing:\", task)"
      ],
      "execution_count": null,
      "outputs": [
        {
          "output_type": "stream",
          "name": "stdout",
          "text": [
            "Now doing: water plants\n",
            "Now doing: take out trash\n",
            "Now doing: mow law\n",
            "Now doing: prepare dinner\n"
          ]
        }
      ]
    },
    {
      "cell_type": "code",
      "source": [
        "for i, item in enumerate(things_to_do):\n",
        "  print(i, \"  \", item)"
      ],
      "metadata": {
        "colab": {
          "base_uri": "https://localhost:8080/"
        },
        "id": "2RgMSDOgHHE8",
        "outputId": "f3c6ca99-6c2b-469d-df28-dcfe192c15b1"
      },
      "execution_count": null,
      "outputs": [
        {
          "output_type": "stream",
          "name": "stdout",
          "text": [
            "0    water plants\n",
            "1    take out trash\n",
            "2    mow law\n",
            "3    prepare dinner\n"
          ]
        }
      ]
    },
    {
      "cell_type": "markdown",
      "metadata": {
        "id": "jIDdokoOGAl6"
      },
      "source": [
        "Notice that in order to print out each element of the list one-by-one, we need to use a for loop. We cannot do the following:"
      ]
    },
    {
      "cell_type": "code",
      "metadata": {
        "id": "ZTsl1w5SGGuN",
        "colab": {
          "base_uri": "https://localhost:8080/",
          "height": 34
        },
        "outputId": "b9ebab03-3c5f-48da-cf68-a168c1069757"
      },
      "source": [
        "# This would just print the entire list at once\n",
        "things_to_do = [\"water plants\", \"take out trash\", \"mow law\", \"prepare dinner\"]\n",
        "print(things_to_do)"
      ],
      "execution_count": null,
      "outputs": [
        {
          "output_type": "stream",
          "text": [
            "['water plants', 'take out trash', 'mow law', 'prepare dinner']\n"
          ],
          "name": "stdout"
        }
      ]
    },
    {
      "cell_type": "markdown",
      "metadata": {
        "id": "u53rfwj6GPKf"
      },
      "source": [
        "Say we want to loop through a list of numbers and count how many times we see an even number. We could do that by combining for loops and if statements:"
      ]
    },
    {
      "cell_type": "code",
      "metadata": {
        "id": "_wj_WJcbGOpX"
      },
      "source": [
        "list_of_no = [1,2,99,24,45,76]\n",
        "\n",
        "count = 0\n",
        "\n",
        "for number in list_of_no:\n",
        "  if number % 2 == 0:\n",
        "    count += 1\n",
        "    \n",
        "print(count)"
      ],
      "execution_count": null,
      "outputs": []
    },
    {
      "cell_type": "markdown",
      "metadata": {
        "id": "GZXRxYgjG8lm"
      },
      "source": [
        "Take your time to read the code example above. We've combined many of the different things that we've learned in the lesson so far to accomplish this task. Try to read through each line of code to understand what it does, especially within the for loop. Notice that the if-statement condition is indented once, and the `count += 1` line is indented twice."
      ]
    },
    {
      "cell_type": "markdown",
      "metadata": {
        "id": "TmR8AMRuQLiB"
      },
      "source": [
        "## Ranged For Loop\n",
        "\n",
        "In addition to using a for loop with a list, we can use a for loop with a range of numbers. Say we wanted to count up from 1 to 100 and print each number:"
      ]
    },
    {
      "cell_type": "code",
      "metadata": {
        "id": "-_phUnfIH3IH",
        "colab": {
          "base_uri": "https://localhost:8080/",
          "height": 1717
        },
        "outputId": "b835c24e-8938-4be9-f5ff-0a7b659b1e51"
      },
      "source": [
        "for number in range(100):\n",
        "  print(number)"
      ],
      "execution_count": null,
      "outputs": [
        {
          "output_type": "stream",
          "text": [
            "0\n",
            "1\n",
            "2\n",
            "3\n",
            "4\n",
            "5\n",
            "6\n",
            "7\n",
            "8\n",
            "9\n",
            "10\n",
            "11\n",
            "12\n",
            "13\n",
            "14\n",
            "15\n",
            "16\n",
            "17\n",
            "18\n",
            "19\n",
            "20\n",
            "21\n",
            "22\n",
            "23\n",
            "24\n",
            "25\n",
            "26\n",
            "27\n",
            "28\n",
            "29\n",
            "30\n",
            "31\n",
            "32\n",
            "33\n",
            "34\n",
            "35\n",
            "36\n",
            "37\n",
            "38\n",
            "39\n",
            "40\n",
            "41\n",
            "42\n",
            "43\n",
            "44\n",
            "45\n",
            "46\n",
            "47\n",
            "48\n",
            "49\n",
            "50\n",
            "51\n",
            "52\n",
            "53\n",
            "54\n",
            "55\n",
            "56\n",
            "57\n",
            "58\n",
            "59\n",
            "60\n",
            "61\n",
            "62\n",
            "63\n",
            "64\n",
            "65\n",
            "66\n",
            "67\n",
            "68\n",
            "69\n",
            "70\n",
            "71\n",
            "72\n",
            "73\n",
            "74\n",
            "75\n",
            "76\n",
            "77\n",
            "78\n",
            "79\n",
            "80\n",
            "81\n",
            "82\n",
            "83\n",
            "84\n",
            "85\n",
            "86\n",
            "87\n",
            "88\n",
            "89\n",
            "90\n",
            "91\n",
            "92\n",
            "93\n",
            "94\n",
            "95\n",
            "96\n",
            "97\n",
            "98\n",
            "99\n"
          ],
          "name": "stdout"
        }
      ]
    },
    {
      "cell_type": "markdown",
      "metadata": {
        "id": "sUi3K9q9H7TZ"
      },
      "source": [
        "**What is the first number that's printed?**\n",
        "\n",
        "0! Remember that in Python, we typically start counting from 0, not 1.\n",
        "\n",
        "**What is the final number that's printed?**\n",
        "\n",
        "You'll notice that the number we specify in `range()` is the number we count _up to_, but don't actually get to.\n",
        "\n",
        "**How can we correct this to print the numbers 1 to 100 instead of 0 to 99?**"
      ]
    },
    {
      "cell_type": "code",
      "metadata": {
        "id": "7Psf3t8aIW5d",
        "colab": {
          "base_uri": "https://localhost:8080/",
          "height": 1717
        },
        "outputId": "6e89d691-7a4b-40b4-b67f-cf7f0a62a95b"
      },
      "source": [
        "# One approach:\n",
        "for number in range(100):\n",
        "  print(number + 1)"
      ],
      "execution_count": null,
      "outputs": [
        {
          "output_type": "stream",
          "text": [
            "1\n",
            "2\n",
            "3\n",
            "4\n",
            "5\n",
            "6\n",
            "7\n",
            "8\n",
            "9\n",
            "10\n",
            "11\n",
            "12\n",
            "13\n",
            "14\n",
            "15\n",
            "16\n",
            "17\n",
            "18\n",
            "19\n",
            "20\n",
            "21\n",
            "22\n",
            "23\n",
            "24\n",
            "25\n",
            "26\n",
            "27\n",
            "28\n",
            "29\n",
            "30\n",
            "31\n",
            "32\n",
            "33\n",
            "34\n",
            "35\n",
            "36\n",
            "37\n",
            "38\n",
            "39\n",
            "40\n",
            "41\n",
            "42\n",
            "43\n",
            "44\n",
            "45\n",
            "46\n",
            "47\n",
            "48\n",
            "49\n",
            "50\n",
            "51\n",
            "52\n",
            "53\n",
            "54\n",
            "55\n",
            "56\n",
            "57\n",
            "58\n",
            "59\n",
            "60\n",
            "61\n",
            "62\n",
            "63\n",
            "64\n",
            "65\n",
            "66\n",
            "67\n",
            "68\n",
            "69\n",
            "70\n",
            "71\n",
            "72\n",
            "73\n",
            "74\n",
            "75\n",
            "76\n",
            "77\n",
            "78\n",
            "79\n",
            "80\n",
            "81\n",
            "82\n",
            "83\n",
            "84\n",
            "85\n",
            "86\n",
            "87\n",
            "88\n",
            "89\n",
            "90\n",
            "91\n",
            "92\n",
            "93\n",
            "94\n",
            "95\n",
            "96\n",
            "97\n",
            "98\n",
            "99\n",
            "100\n"
          ],
          "name": "stdout"
        }
      ]
    },
    {
      "cell_type": "markdown",
      "metadata": {
        "id": "r-tZ57aoIeSM"
      },
      "source": [
        "Often we'll find multiple ways to do the same thing in Python."
      ]
    },
    {
      "cell_type": "code",
      "metadata": {
        "id": "Q91Y5tghIiZF",
        "colab": {
          "base_uri": "https://localhost:8080/",
          "height": 1717
        },
        "outputId": "6ea8aa27-258b-40f2-8c5d-0b8ddbe1ebc2"
      },
      "source": [
        "# Another approach:\n",
        "for number in range(1, 101):\n",
        "  print(number)"
      ],
      "execution_count": null,
      "outputs": [
        {
          "output_type": "stream",
          "text": [
            "1\n",
            "2\n",
            "3\n",
            "4\n",
            "5\n",
            "6\n",
            "7\n",
            "8\n",
            "9\n",
            "10\n",
            "11\n",
            "12\n",
            "13\n",
            "14\n",
            "15\n",
            "16\n",
            "17\n",
            "18\n",
            "19\n",
            "20\n",
            "21\n",
            "22\n",
            "23\n",
            "24\n",
            "25\n",
            "26\n",
            "27\n",
            "28\n",
            "29\n",
            "30\n",
            "31\n",
            "32\n",
            "33\n",
            "34\n",
            "35\n",
            "36\n",
            "37\n",
            "38\n",
            "39\n",
            "40\n",
            "41\n",
            "42\n",
            "43\n",
            "44\n",
            "45\n",
            "46\n",
            "47\n",
            "48\n",
            "49\n",
            "50\n",
            "51\n",
            "52\n",
            "53\n",
            "54\n",
            "55\n",
            "56\n",
            "57\n",
            "58\n",
            "59\n",
            "60\n",
            "61\n",
            "62\n",
            "63\n",
            "64\n",
            "65\n",
            "66\n",
            "67\n",
            "68\n",
            "69\n",
            "70\n",
            "71\n",
            "72\n",
            "73\n",
            "74\n",
            "75\n",
            "76\n",
            "77\n",
            "78\n",
            "79\n",
            "80\n",
            "81\n",
            "82\n",
            "83\n",
            "84\n",
            "85\n",
            "86\n",
            "87\n",
            "88\n",
            "89\n",
            "90\n",
            "91\n",
            "92\n",
            "93\n",
            "94\n",
            "95\n",
            "96\n",
            "97\n",
            "98\n",
            "99\n",
            "100\n"
          ],
          "name": "stdout"
        }
      ]
    },
    {
      "cell_type": "markdown",
      "metadata": {
        "id": "jUD_tPfNInVY"
      },
      "source": [
        "Both are valid approaches that have pros and cons."
      ]
    },
    {
      "cell_type": "markdown",
      "metadata": {
        "id": "BpDOerE7IufB"
      },
      "source": [
        "Notice that in the for loop, we mention the variable `number`, but never initialize it beforehand. Typically you'd expect this to return an error, like you see below:"
      ]
    },
    {
      "cell_type": "code",
      "metadata": {
        "id": "PMIif1WEI5sj",
        "colab": {
          "base_uri": "https://localhost:8080/",
          "height": 164
        },
        "outputId": "4f0e90b9-4faf-4686-d1c4-17095b38b1a0"
      },
      "source": [
        "# An example of a variable we've never initialized before being used\n",
        "print(some_random_new_variable)"
      ],
      "execution_count": null,
      "outputs": [
        {
          "output_type": "error",
          "ename": "NameError",
          "evalue": "ignored",
          "traceback": [
            "\u001b[0;31m---------------------------------------------------------------------------\u001b[0m",
            "\u001b[0;31mNameError\u001b[0m                                 Traceback (most recent call last)",
            "\u001b[0;32m<ipython-input-52-d0b17b7621be>\u001b[0m in \u001b[0;36m<module>\u001b[0;34m()\u001b[0m\n\u001b[0;32m----> 1\u001b[0;31m \u001b[0mprint\u001b[0m\u001b[0;34m(\u001b[0m\u001b[0msome_random_new_variable\u001b[0m\u001b[0;34m)\u001b[0m\u001b[0;34m\u001b[0m\u001b[0;34m\u001b[0m\u001b[0m\n\u001b[0m",
            "\u001b[0;31mNameError\u001b[0m: name 'some_random_new_variable' is not defined"
          ]
        }
      ]
    },
    {
      "cell_type": "markdown",
      "metadata": {
        "id": "ZblZ4V6dJAPp"
      },
      "source": [
        "However, in the first line of a for loop, Python understands that we are using a placeholder variable that is updated each time the for loop runs. In the following example, `num` is a placeholder variable that's assigned the value 2 the first time the for loop runs, and incremented by 1 each time the loop repeats:"
      ]
    },
    {
      "cell_type": "code",
      "metadata": {
        "id": "Gs4rV2quJc7M",
        "colab": {
          "base_uri": "https://localhost:8080/",
          "height": 153
        },
        "outputId": "d7cd3092-c6e2-4ba2-8913-7f23f262b166"
      },
      "source": [
        "for num in range(2, 10):\n",
        "  print(num)"
      ],
      "execution_count": null,
      "outputs": [
        {
          "output_type": "stream",
          "text": [
            "2\n",
            "3\n",
            "4\n",
            "5\n",
            "6\n",
            "7\n",
            "8\n",
            "9\n"
          ],
          "name": "stdout"
        }
      ]
    },
    {
      "cell_type": "markdown",
      "source": [
        "A few more notes on Python. In Python 3.x if you create a variable b, and make it equal to a variable a, and reassign variable b, it will have a different value than a (that is, it had its own memory block)\n"
      ],
      "metadata": {
        "id": "FaxqK9S2UKbk"
      }
    },
    {
      "cell_type": "code",
      "source": [
        "a = 3\n",
        "b = a\n",
        "b = 5\n",
        "print(a , ' ', b)"
      ],
      "metadata": {
        "colab": {
          "base_uri": "https://localhost:8080/"
        },
        "id": "qcCTSDWxUH_F",
        "outputId": "7687702a-45ae-49b0-9199-5efbb385dfa7"
      },
      "execution_count": null,
      "outputs": [
        {
          "output_type": "stream",
          "name": "stdout",
          "text": [
            "3   5\n"
          ]
        }
      ]
    },
    {
      "cell_type": "code",
      "source": [
        ""
      ],
      "metadata": {
        "id": "K8g5VzvWVodS"
      },
      "execution_count": null,
      "outputs": []
    },
    {
      "cell_type": "markdown",
      "source": [
        ""
      ],
      "metadata": {
        "id": "-hnErZkyXnrT"
      }
    },
    {
      "cell_type": "markdown",
      "source": [
        "One must be careful about copying lists. The following example shows what happens when a list is not properly copied. Suppose, that I wish to create a copy of fruits, but with pears as the first entry"
      ],
      "metadata": {
        "id": "Weq8B9BSXoHB"
      }
    },
    {
      "cell_type": "code",
      "source": [
        "fruits = ['apples', 'oranges', 'bananas']\n",
        "print(\"fruit\", fruits)\n",
        "fruit_pears = fruits\n",
        "print(\"fruit_pears\", fruit_pears)\n",
        "fruit_pears[0] = 'pears'\n",
        "print(\"fruit \", fruits)\n",
        "print(\"fruit_pears\", fruit_pears)"
      ],
      "metadata": {
        "id": "BO5vNuIoVoxM",
        "colab": {
          "base_uri": "https://localhost:8080/"
        },
        "outputId": "5b2650c8-a3d3-4fd8-8a6a-4f2e325fb253"
      },
      "execution_count": null,
      "outputs": [
        {
          "output_type": "stream",
          "name": "stdout",
          "text": [
            "fruit ['apples', 'oranges', 'bananas']\n",
            "fruit_pears ['apples', 'oranges', 'bananas']\n",
            "fruit  ['pears', 'oranges', 'bananas']\n",
            "fruit_pears ['pears', 'oranges', 'bananas']\n"
          ]
        }
      ]
    },
    {
      "cell_type": "markdown",
      "source": [
        ""
      ],
      "metadata": {
        "id": "gYCW12DhXuJM"
      }
    },
    {
      "cell_type": "markdown",
      "source": [
        "By reassigning element 0 of fruit_pears, I have also accidentally reassigned the first element of the original fruits. The correct way to do this is to first copy the list."
      ],
      "metadata": {
        "id": "_bqS33v1Xujl"
      }
    },
    {
      "cell_type": "code",
      "source": [
        "fruits = ['apples', 'oranges', 'bananas']\n",
        "print(\"fruit\", fruits)\n",
        "fruit_pears = fruits.copy()\n",
        "print(\"fruit_pears\", fruit_pears)\n",
        "fruit_pears[0] = 'pears'\n",
        "print(\"fruit \", fruits)\n",
        "print(\"fruit_pears\", fruit_pears)"
      ],
      "metadata": {
        "colab": {
          "base_uri": "https://localhost:8080/"
        },
        "id": "HCgkYABwXxfc",
        "outputId": "e9ec4878-a7f0-46aa-c156-2b40e9464a3c"
      },
      "execution_count": null,
      "outputs": [
        {
          "output_type": "stream",
          "name": "stdout",
          "text": [
            "fruit ['apples', 'oranges', 'bananas']\n",
            "fruit_pears ['apples', 'oranges', 'bananas']\n",
            "fruit  ['apples', 'oranges', 'bananas']\n",
            "fruit_pears ['pears', 'oranges', 'bananas']\n"
          ]
        }
      ]
    },
    {
      "cell_type": "code",
      "source": [
        "fruit = 'apples'\n",
        "if fruit == 'apples':\n",
        "  #found_apples assigned inside this block, but can still access it outside\n",
        "  #In fact, because it is assigned outside any function, it has global scope\n",
        "  found_apples = True\n",
        "if found_apples:\n",
        "  print(\"I found apples\")"
      ],
      "metadata": {
        "id": "Bx-Y7xsMVpD8",
        "colab": {
          "base_uri": "https://localhost:8080/"
        },
        "outputId": "90e554f3-65bc-4e66-f9dc-d7af6789cbcc"
      },
      "execution_count": null,
      "outputs": [
        {
          "output_type": "stream",
          "name": "stdout",
          "text": [
            "I found apples\n"
          ]
        }
      ]
    },
    {
      "cell_type": "markdown",
      "source": [
        ""
      ],
      "metadata": {
        "id": "rdcy9Lycjqcp"
      }
    },
    {
      "cell_type": "markdown",
      "metadata": {
        "id": "lvYdmKAXK_cP"
      },
      "source": [
        "## Exercise\n",
        "\n",
        "![alt text](https://media.giphy.com/media/9GimADqtnpAPe/giphy.gif)\n",
        "\n",
        "Let's try to put a few of the things that we've learned to the test!\n",
        "\n",
        "In this exercise, write a program that counts from 1 to 100, but will only print the word \"Fizz\" on every multiple of three, along with the number itself. For example, the start of your output should look like:\n",
        "\n",
        "> Fizz 3\n",
        "\n",
        "> Fizz 6\n",
        "\n",
        "> Fizz 9\n",
        "\n",
        "> Fizz 12\n",
        "\n",
        "> ...\n",
        "\n",
        "There are many ways to accomplish this exercise with what we have learned!"
      ]
    },
    {
      "cell_type": "code",
      "metadata": {
        "id": "Vy8PhrbXMIX6"
      },
      "source": [
        "# Write your code here"
      ],
      "execution_count": null,
      "outputs": []
    },
    {
      "cell_type": "markdown",
      "metadata": {
        "id": "u1aoFYtBMLsW"
      },
      "source": [
        "## Challenge Exercise\n",
        "\n",
        "For those who are ambitious, here's a coding question that you can answer with just the concepts we've learned in this lesson. This one is slightly trickier, but you've got this!\n",
        "\n",
        "Write a program that prints the numbers from 1 to 100, but on multiples of 3 will print \"fizz\", on multiples of 5 will print \"buzz\", and on multiples of both 3 and 5 will print \"fizzbuzz\". For example, the start of your output should look like:\n",
        "\n",
        "> 1:\n",
        "\n",
        "> 2:\n",
        "\n",
        "> 3: fizz\n",
        "\n",
        "> 4:\n",
        "\n",
        "> 5: buzz\n",
        "\n",
        "> 6: fizz\n",
        "\n",
        "> 7: \n",
        "\n",
        "> 8:\n",
        "\n",
        "> 9: fizz\n",
        "\n",
        "> 10: buzz\n",
        "\n",
        "> 11:\n",
        "\n",
        "> 12: fizz\n",
        "\n",
        "> 13:\n",
        "\n",
        "> 14:\n",
        "\n",
        "> 15: fizzbuzz\n",
        "\n",
        "> 16:\n",
        "\n",
        "> ...\n",
        "\n",
        "Feel free to work with others and ask questions on this challenge exercise!"
      ]
    },
    {
      "cell_type": "code",
      "metadata": {
        "id": "dFyWQQomMLLk"
      },
      "source": [
        "# Write your code here"
      ],
      "execution_count": null,
      "outputs": []
    },
    {
      "cell_type": "markdown",
      "metadata": {
        "id": "6OuXu_uMNMFA"
      },
      "source": [
        "Note: This is the classic \"fizzbuzz\" problem, which is actually a real interview question that some companies ask when they hire software engineers! Good job to those who figured out the solution to this question!"
      ]
    },
    {
      "cell_type": "markdown",
      "metadata": {
        "id": "YK9DA_IVNuSu"
      },
      "source": [
        "## Congratulations!\n",
        "\n",
        "You made it to the end of the first Introdution to Python lesson! This was a very condensed sprint through some fundamental Python concepts, and you did amazingly. Remember, it takes time and practice to get the hang of programming, so no sweat if you need to review some of the concepts in this lesson. Take this time to really congratulate yourself on all your work coding today!\n",
        "\n",
        "![alt text](https://media.giphy.com/media/26gs7fLOYbSGbBSN2/giphy.gif)"
      ]
    }
  ]
}