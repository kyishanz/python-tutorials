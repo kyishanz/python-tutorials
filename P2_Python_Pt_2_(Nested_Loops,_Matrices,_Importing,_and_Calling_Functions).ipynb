{
  "nbformat": 4,
  "nbformat_minor": 0,
  "metadata": {
    "colab": {
      "name": "P2: Python Pt. 2 (Nested Loops, Matrices, Importing, and Calling Functions)",
      "provenance": [],
      "collapsed_sections": [],
      "include_colab_link": true
    },
    "kernelspec": {
      "name": "python3",
      "display_name": "Python 3"
    }
  },
  "cells": [
    {
      "cell_type": "markdown",
      "metadata": {
        "id": "view-in-github",
        "colab_type": "text"
      },
      "source": [
        "<a href=\"https://colab.research.google.com/github/kyishanz/python-tutorials/blob/main/P2_Python_Pt_2_(Nested_Loops%2C_Matrices%2C_Importing%2C_and_Calling_Functions).ipynb\" target=\"_parent\"><img src=\"https://colab.research.google.com/assets/colab-badge.svg\" alt=\"Open In Colab\"/></a>"
      ]
    },
    {
      "cell_type": "markdown",
      "metadata": {
        "id": "516Ip-B7RQNL"
      },
      "source": [
        "## Welcome Back and Review\n",
        "\n",
        "Welcome back to the world of Python!\n",
        "\n",
        "Last lesson, we covered topics such as variables, input/output, conditionals, lists, and loops. In this lesson, we'll expand on those topics by talking about 2D lists (also known as matrices) and nested loops (loops within loops), and we'll cover new topics such as importing libraries and using functions.\n",
        "\n",
        "Let's jump right into coding with a quick review example!\n",
        "\n",
        "![alt text](https://media.giphy.com/media/3oKIPnAiaMCws8nOsE/giphy.gif)\n",
        "\n"
      ]
    },
    {
      "cell_type": "markdown",
      "metadata": {
        "id": "DgN7uVbwXnHx"
      },
      "source": [
        "Write a program that takes an integer input and prints the factorial of that integer. You can assume the input will always be a positive integer.\n",
        "\n",
        "For those who have not seen factorials before, it is the product of an integer and every positive integer below it. We usually represent factorials by writing the number followed by an exclamation mark. \"Five factorial\" would be $ 5! $, which written out is:\n",
        "\n",
        "$$ 5! = 1 * 2 * 3 * 4 * 5 = 120 $$\n",
        "\n",
        "An example run of this program might look like:\n",
        "\n",
        "```\n",
        "Input an integer: 5\n",
        "The factorial is: 120\n",
        "```\n",
        "\n",
        "Be sure to use a loop (either `for` or `while`) to accomplish this task!"
      ]
    },
    {
      "cell_type": "code",
      "metadata": {
        "id": "1CsuI7k7Wq0Z"
      },
      "source": [
        "# To get you started, the line to get input is provided below\n",
        "number = int(input(\"Input an integer: \"))"
      ],
      "execution_count": null,
      "outputs": []
    },
    {
      "cell_type": "markdown",
      "metadata": {
        "id": "It8igJ-LeiOB"
      },
      "source": [
        "## Debugging\n",
        "\n",
        "In this lesson, we'll start to shift from reading code to writing more code. When writing code, we often run into errors or end up with programs that might not run exactly as we wanted. This is ok! In fact, all of the best programmers in the world still make errors and mistakes in their code.\n",
        "\n",
        "One of the tools in a programmer's toolbox is figuring out how to look for errors, or \"bugs\", in their code. The process of finding and removing bugs in your code is called **debugging**, and from computer science folklore, the origin of this word comes from legendary computer scientist Grace Hopper, who once found an actual moth in her computer (back when they were the size of rooms) that caused an error in its calculations.\n",
        "\n",
        "![alt text](http://www.pitt.edu/~super1/lecture/lec44911/img019.JPG)"
      ]
    },
    {
      "cell_type": "markdown",
      "metadata": {
        "id": "ZnZ113AQfzUt"
      },
      "source": [
        "Let's look at the following code block. It's intended to print out the numbers from 1 to 5, but something's wrong. Can you debug it and figure out what needs to be changed?"
      ]
    },
    {
      "cell_type": "code",
      "metadata": {
        "id": "316euGkXf_NH"
      },
      "source": [
        "for num in range(1,5):\n",
        "  print(num)"
      ],
      "execution_count": null,
      "outputs": []
    },
    {
      "cell_type": "markdown",
      "metadata": {
        "id": "-uvBwayhgFgx"
      },
      "source": [
        "Sometimes bugs are hard to find, and it's helpful to add print statements to see what the values of certain variables are at that point in time. Say we want to write a program that takes in an word input and checks if the characters `un` were found in that input:"
      ]
    },
    {
      "cell_type": "code",
      "metadata": {
        "id": "6ID5TtK_gldV"
      },
      "source": [
        "# There's an error in this program -- can you spot it?\n",
        "check = 'um'\n",
        "\n",
        "# Pretend that there were hundreds of lines of code here\n",
        "# So that the lines you see above\n",
        "# And the lines you see below\n",
        "# Aren't right next to each other\n",
        "# You might look to find an error in the code below\n",
        "# But it turns out the bug is somewhere else...\n",
        "\n",
        "word = input(\"Input a word: \")\n",
        "\n",
        "if check in word:\n",
        "  print(\"Found 'un'!\")"
      ],
      "execution_count": null,
      "outputs": []
    },
    {
      "cell_type": "markdown",
      "metadata": {
        "id": "Us6wtWCMhqec"
      },
      "source": [
        "If we run the code and input the word `unimportant`, we should expect the output `Found 'un'!`.\n",
        "\n",
        "However, it doesn't work as expected, because there's a typo that makes the program do something else. \n",
        "\n",
        "When we think there's a bug with our program, we can add a print statement as a check for ourselves. Run the program below and input a word:\n"
      ]
    },
    {
      "cell_type": "code",
      "metadata": {
        "id": "H1AMEuELjMlV"
      },
      "source": [
        "# There's an error in this program -- can you spot it?\n",
        "check = 'um'\n",
        "\n",
        "# Pretend that there were hundreds of lines of code here\n",
        "# So that the lines you see above\n",
        "# And the lines you see below\n",
        "# Aren't right next to each other\n",
        "# You might look to find an error in the code below\n",
        "# But it turns out the bug is somewhere else...\n",
        "\n",
        "word = input(\"Input a word: \")\n",
        "\n",
        "# Added this line to make sure that we're checking for 'un'\n",
        "print(\"We're actually looking for\", check)\n",
        "\n",
        "if check in word:\n",
        "  print(\"Found 'un'!\")"
      ],
      "execution_count": null,
      "outputs": []
    },
    {
      "cell_type": "markdown",
      "metadata": {
        "id": "MBMX46wcjlkD"
      },
      "source": [
        "When we run the program this time, our print statement tells us that we're actually looking for the characters `um` and not `un`. This might help us realize we had made a typo much earlier in the program, so that we go look for it and fix the typo.\n",
        "\n",
        "In this example, it might have been easy to spot the typo since there's not a lot of code in the program. But when programs start to get to hundreds or even thousands of lines long, typos might be harder to catch. Printing what your variables are every now and then can be useful as a debugging tool!\n",
        "\n",
        "Just be sure to remove the debugging print statements you added once you're done, because they likely are not part of the output you want to show a user."
      ]
    },
    {
      "cell_type": "code",
      "metadata": {
        "id": "rYCjkch0muyZ"
      },
      "source": [
        "# The program, without the debug line, with the typo fixed\n",
        "check = 'un'\n",
        "\n",
        "# Pretend that there were hundreds of lines of code here...\n",
        "\n",
        "word = input(\"Input a word:\")\n",
        "\n",
        "if check in word:\n",
        "  print(\"Found 'un'!\")"
      ],
      "execution_count": null,
      "outputs": []
    },
    {
      "cell_type": "markdown",
      "metadata": {
        "id": "UlTCjJHenC2i"
      },
      "source": [
        "If all of this seems confusing at first, no worries! Debugging is a skill that takes practice, which you'll have lots of in this lesson."
      ]
    },
    {
      "cell_type": "markdown",
      "metadata": {
        "id": "wFMV78AAQnmu"
      },
      "source": [
        "## Nested Loops\n",
        "\n",
        "In all examples from the first lesson, we only used a single loop at a time, like you see below:"
      ]
    },
    {
      "cell_type": "code",
      "metadata": {
        "id": "h5UdW2jBZcDa"
      },
      "source": [
        "for num in range(5):\n",
        "  print(\"We're going to repeat this 5 times!\")"
      ],
      "execution_count": null,
      "outputs": []
    },
    {
      "cell_type": "markdown",
      "metadata": {
        "id": "cGL7mxgVZn_W"
      },
      "source": [
        "Remember that the placeholder variable (`placeholder` in the following example) is automatically updated each time the loop runs:"
      ]
    },
    {
      "cell_type": "code",
      "metadata": {
        "id": "ZvmifHK_Z66w"
      },
      "source": [
        "for placeholder in range(1, 6):\n",
        "  print(\"This is iteration #\",placeholder,\"of this loop\")"
      ],
      "execution_count": null,
      "outputs": []
    },
    {
      "cell_type": "markdown",
      "metadata": {
        "id": "wuO8UPA7aFtx"
      },
      "source": [
        "Also remember that every line immediately after the `for` that we indent is looped, but once we un-indent, we're outside of the loop. What would the following example print?"
      ]
    },
    {
      "cell_type": "code",
      "metadata": {
        "id": "MOD9xeqhaYGq"
      },
      "source": [
        "lis = [\"coffee\", \"tea\", \"boba\"]\n",
        "\n",
        "for item in lis:\n",
        "  print(\"I like the following item:\")\n",
        "  print(item)\n",
        "print(\"That's the whole list!\")"
      ],
      "execution_count": null,
      "outputs": []
    },
    {
      "cell_type": "markdown",
      "metadata": {
        "id": "xFxs3Uarauuw"
      },
      "source": [
        "Sometimes, it's useful for us to have a loop inside of a loop. For example, if we had a list of words and wanted to print each 5 times, how would we do this?"
      ]
    },
    {
      "cell_type": "code",
      "metadata": {
        "id": "vyCnwvhxa9m0"
      },
      "source": [
        "lis = [\"taro\", \"wintermelon\", \"passion fruit\"]\n",
        "\n",
        "for item in lis:\n",
        "  for num in range(5):\n",
        "    print(item)"
      ],
      "execution_count": null,
      "outputs": []
    },
    {
      "cell_type": "markdown",
      "metadata": {
        "id": "UVisQ70PbPpf"
      },
      "source": [
        "A quick note that there's a different way of doing this using multiplication, but the example above illustrates how we can use a loop inside of a loop, otherwise known as a **nested loop**.\n",
        "\n",
        "But what exactly is going on?\n",
        "\n",
        "Let's add some print statements to try to understand how the two loops work:"
      ]
    },
    {
      "cell_type": "code",
      "metadata": {
        "id": "EBDYWz9RbtUC"
      },
      "source": [
        "lis = [\"taro\", \"wintermelon\", \"passion fruit\"]\n",
        "\n",
        "for item in lis:\n",
        "  print(\"We're back outside to the top of the outer loop. The item we're looking at now is\", item)\n",
        "  for num in range(5):\n",
        "    print(\"Inner loop, iteration #\",num)\n",
        "    print(item)"
      ],
      "execution_count": null,
      "outputs": []
    },
    {
      "cell_type": "markdown",
      "metadata": {
        "id": "dL8wxXB8cG1A"
      },
      "source": [
        "This might look like a lot at first! But take a breath, and try to follow the code, line by line, to see which line prints which statement.\n",
        "\n",
        "The key thing to remember is that the inner loop will repeat 5 times before it's finished. Once it's finished, we'll get to the end of the outer loop, and the outer loop will repeat.\n",
        "\n",
        "Said differently, remember that the outer loop will not repeat until the inner loop is done repeating.\n",
        "\n",
        "Here's another example. Try to follow the code and the loops and **write down** what it would print before running it:"
      ]
    },
    {
      "cell_type": "code",
      "metadata": {
        "id": "KE07ngmRdX3_"
      },
      "source": [
        "for a in range(1, 3):\n",
        "  print(a)\n",
        "  for b in range(1, 3):\n",
        "    num = a + b\n",
        "    print(num)\n",
        "  print(\"Finished the inner loop, repeating the outer loop\")\n",
        "print(\"Finished both loops\")"
      ],
      "execution_count": null,
      "outputs": []
    },
    {
      "cell_type": "markdown",
      "metadata": {
        "id": "239GjVfpn0vm"
      },
      "source": [
        "Nested loops are extremely useful, and we'll see them a lot when working with things like tables of information. It does take some time and practice to get used to nested loops, so don't worry if they don't come naturally right away.\n",
        "\n",
        "For practice, try to write a program that prints out the multiplication table up to 10 x 10. It should look like:\n",
        "\n",
        "```\n",
        "1 2 3 4 5 6 7 8 9 10 \n",
        "2 4 6 8 10 12 14 16 18 20 \n",
        "3 6 9 12 15 18 21 24 27 30 \n",
        "4 8 12 16 20 24 28 32 36 40 \n",
        "5 10 15 20 25 30 35 40 45 50 \n",
        "6 12 18 24 30 36 42 48 54 60 \n",
        "7 14 21 28 35 42 49 56 63 70 \n",
        "8 16 24 32 40 48 56 64 72 80 \n",
        "9 18 27 36 45 54 63 72 81 90 \n",
        "10 20 30 40 50 60 70 80 90 100 \n",
        "\n",
        "```\n",
        "\n",
        "For this exercise, you'll need to be able to print without a new line happening every time you write a print statement. Here's an example of that:"
      ]
    },
    {
      "cell_type": "code",
      "metadata": {
        "id": "iSORg3rfo3dt"
      },
      "source": [
        "print(\"When we print this\")\n",
        "print(\"this happens on a new line.\")\n",
        "\n",
        "print()\n",
        "print()\n",
        "\n",
        "print(\"If we want a blank line,\")\n",
        "print()\n",
        "print(\"We can just say print().\")\n",
        "\n",
        "print()\n",
        "print()\n",
        "\n",
        "print(\"But when we print and include the code that says end='', \", end='')\n",
        "print(\"the next print statement won't happen on a new line!\")"
      ],
      "execution_count": null,
      "outputs": []
    },
    {
      "cell_type": "markdown",
      "metadata": {
        "id": "D4sWdbPYpjEy"
      },
      "source": [
        "We need this, because it will help us print out a single line of the multiplication table. For example, let's see the difference between the following two blocks of code:"
      ]
    },
    {
      "cell_type": "code",
      "metadata": {
        "id": "aFxLC6xnpsgH"
      },
      "source": [
        "for num in range(1, 11):\n",
        "  print(num)"
      ],
      "execution_count": null,
      "outputs": []
    },
    {
      "cell_type": "code",
      "metadata": {
        "id": "DXwbHppJpyfv"
      },
      "source": [
        "for num in range(1, 11):\n",
        "  print(num, end='')"
      ],
      "execution_count": null,
      "outputs": []
    },
    {
      "cell_type": "markdown",
      "metadata": {
        "id": "XRB0LYKRp3bL"
      },
      "source": [
        "We use `end=''` to tell the print statement that when we finish printing, we won't tell the computer to start the next print on a new line.\n",
        "\n",
        "Notice that after printing, we don't have any spaces between the characters as well. If we instead say `end=' '`, that means that we're telling the computer to add a space after each print."
      ]
    },
    {
      "cell_type": "code",
      "metadata": {
        "id": "A4Bbm6iaqREd"
      },
      "source": [
        "for num in range(1, 11):\n",
        "  print(num, end=' ')"
      ],
      "execution_count": null,
      "outputs": []
    },
    {
      "cell_type": "markdown",
      "metadata": {
        "id": "CQDSdOJRqUi3"
      },
      "source": [
        "How might we use this to print our multiplication table using nested loops?\n",
        "\n",
        "Think about it a bit, and give it a try. This may also be an excellent opportunity to practice debugging! Feel free to work with others:"
      ]
    },
    {
      "cell_type": "code",
      "metadata": {
        "id": "bBcNJaLvq7LM"
      },
      "source": [
        "# Write your code here for printing the multiplication table, up to 10 x 10\n",
        "# You should use a nested loop"
      ],
      "execution_count": null,
      "outputs": []
    },
    {
      "cell_type": "markdown",
      "metadata": {
        "id": "GLqF_tVGRZRn"
      },
      "source": [
        "## 2D Lists and Matrices\n",
        "\n",
        "Recall lists from the previous lesson:"
      ]
    },
    {
      "cell_type": "code",
      "metadata": {
        "id": "dKu-qVuAsQnW"
      },
      "source": [
        "lis = [\"element 0\", \"element 1\", \"element 2\"]\n",
        "\n",
        "for item in lis:\n",
        "  if item == \"element 1\":\n",
        "    print(\"Found element 1\")"
      ],
      "execution_count": null,
      "outputs": []
    },
    {
      "cell_type": "markdown",
      "metadata": {
        "id": "M_2xLMvxshnk"
      },
      "source": [
        "We know that a list can contain strings, numbers, booleans, and all other sorts of data types. But can a list contain a list? Yes!"
      ]
    },
    {
      "cell_type": "code",
      "metadata": {
        "id": "2DmVU7oass6q"
      },
      "source": [
        "lis = [\"element 0\", [0, 1, 2], \"element 2\"]\n",
        "\n",
        "for item in lis:\n",
        "  print(item)\n",
        "  \n",
        "print()\n",
        "\n",
        "# Remember indexing into a list?\n",
        "# What would the following print?\n",
        "print(lis[2])"
      ],
      "execution_count": null,
      "outputs": []
    },
    {
      "cell_type": "markdown",
      "metadata": {
        "id": "ywoBvwT8s11N"
      },
      "source": [
        "We see that the list inside of the list is the element with index 1. If we wanted to access that list, we would do:"
      ]
    },
    {
      "cell_type": "code",
      "metadata": {
        "id": "3-sh-vBRtWHX"
      },
      "source": [
        "lis = [\"element 0\", [0, 1, 2], \"element 2\"]\n",
        "\n",
        "print(lis[1])"
      ],
      "execution_count": null,
      "outputs": []
    },
    {
      "cell_type": "markdown",
      "metadata": {
        "id": "DpxS4P-DtZ9p"
      },
      "source": [
        "And if we wanted to loop through this list:"
      ]
    },
    {
      "cell_type": "code",
      "metadata": {
        "id": "OMjbvGcMtf_p"
      },
      "source": [
        "lis = [\"element 0\", [0, 1, 2], \"element 2\"]\n",
        "\n",
        "# This works, because lis[1] is a list and we're looping over it\n",
        "for item in lis[1]:\n",
        "  print(item)"
      ],
      "execution_count": null,
      "outputs": []
    },
    {
      "cell_type": "markdown",
      "metadata": {
        "id": "RBcuUvwvtwaZ"
      },
      "source": [
        "Very frequently, when we work with data for artificial intelligence, it's presented to us as a table. For example, we might have something like:\n",
        "\n",
        "```\n",
        "name     favorite color\n",
        "wells    yellow\n",
        "susanna  black\n",
        "```\n",
        "\n",
        "We can code this up as a \"**2-dimensional list**\", or 2D list, which is a fancy way of calling a list where every element in it is a list.\n"
      ]
    },
    {
      "cell_type": "code",
      "metadata": {
        "id": "QrKNCwYJuttL"
      },
      "source": [
        "two_d_list = [[\"name\", \"favorite color\"],\n",
        "              [\"wells\", \"yellow\"],\n",
        "              [\"susanna\", \"black\"]]"
      ],
      "execution_count": null,
      "outputs": []
    },
    {
      "cell_type": "markdown",
      "metadata": {
        "id": "iH3ZV1fTu9ZM"
      },
      "source": [
        "How can we print this list out? We can use a nested loop!"
      ]
    },
    {
      "cell_type": "code",
      "metadata": {
        "id": "iV-k4Jkfu_qY"
      },
      "source": [
        "two_d_list = [[\"name\", \"favorite color\"],\n",
        "              [\"wells\", \"yellow\"],\n",
        "              [\"susanna\", \"black\"]]\n",
        "\n",
        "for row in two_d_list:\n",
        "  for item in row:\n",
        "    print(item, end=' ')\n",
        "  print()"
      ],
      "execution_count": null,
      "outputs": []
    },
    {
      "cell_type": "markdown",
      "metadata": {
        "id": "8JIYY8SevRVp"
      },
      "source": [
        "Notice that each inner list in the example above is of the same length (2 items). This doesn't always have to be the case, but when it is, we call it a **matrix**. (Plural form: Matrices)\n",
        "\n",
        "![alt text](https://media.giphy.com/media/3rVfBUa9f0RErtMZBH/giphy.gif)\n",
        "\n",
        "(The above gif is from a movie from 1999 called _The Matrix_.)\n",
        "\n",
        "We'll see matrices just about everywhere when writing programs that deal with artificial intelligence."
      ]
    },
    {
      "cell_type": "markdown",
      "metadata": {
        "id": "r82Uy65tQo1T"
      },
      "source": [
        "## Libraries\n",
        "\n",
        "Now to switch gears and talk about one of the most important concepts in the Python language: libraries.\n",
        "\n",
        "![alt text](https://media.giphy.com/media/3o6ozkeXSb0Cm25CzS/giphy.gif)\n",
        "\n",
        "(No, not that type of library... well, the idea is similar.)\n",
        "\n",
        "\n",
        "\n"
      ]
    },
    {
      "cell_type": "markdown",
      "metadata": {
        "id": "j0E9KSaox8gV"
      },
      "source": [
        "As mentioned at the start of the first lesson, what makes Python a particularly popular language is the fact that you can use code that's already been written by other people, so you don't have to reinvent the wheel each time you need to do something.\n",
        "\n",
        "For example, let's say I want to write some code that outputs a random integer between 1 and 10. It might be hard to write code from scratch that tells a computer to simulate randomness, but luckily, others have written this code for us to use!\n",
        "\n",
        "How do we actually do this? In the following example, we're telling Python that we want to use a library called `random`:\n"
      ]
    },
    {
      "cell_type": "code",
      "metadata": {
        "id": "klTrMcYezCUJ"
      },
      "source": [
        "import random"
      ],
      "execution_count": null,
      "outputs": []
    },
    {
      "cell_type": "markdown",
      "metadata": {
        "id": "VtcQHqlvzEZS"
      },
      "source": [
        "`random` happens to be a library of code that comes with Python. The keyword `import` tells Python that we want to import all of the code in that library into our current program so we can use it."
      ]
    },
    {
      "cell_type": "code",
      "metadata": {
        "id": "dXzHSVwbzRE_"
      },
      "source": [
        "import random\n",
        "\n",
        "rand_no = random.randint(1, 11)\n",
        "print(rand_no)"
      ],
      "execution_count": null,
      "outputs": []
    },
    {
      "cell_type": "markdown",
      "metadata": {
        "id": "xO8SQSuBzaOW"
      },
      "source": [
        "Run the above code a few times to see that a random integer between 1 and 10 is printed out each time.\n",
        "\n",
        "This works because someone else in the world has written the `random` library, and we are making use of code that they have written. \n",
        "\n",
        "For the purposes of artificial intelligence, there are many libraries that other people have written (and are constantly being updated) that help turn the concepts we learn into code. Scikit-learn is one of these libraries that we'll see more of throughout the AI4ALL program. If we want to import it, we write the following line:"
      ]
    },
    {
      "cell_type": "code",
      "metadata": {
        "id": "NWtzf4Vi0Izn"
      },
      "source": [
        "import sklearn"
      ],
      "execution_count": null,
      "outputs": []
    },
    {
      "cell_type": "markdown",
      "metadata": {
        "id": "0zNW82qN0RMV"
      },
      "source": [
        "When we write programs, we typically put all of our import statements at the top of all of our code, so that we make sure the code is imported before using it. This is because we cannot call code from the `random` library before we say `import random`.\n",
        "\n",
        "As a final note, other words you might hear when talking about libraries include **module**, **package**, and **framework**. These are all slightly different, but fundamentally, they're all pieces of code that are external to the code you're currently writing, that you need to import.\n",
        "\n",
        "To oversimplify, a module is usually a single file of Python code, a package is a set of modules (or other packages), a library is a collection of packages (though you can really say \"package\" and \"library\" interchangeably for Python), and a framework is a collection of libraries that are all intended to work together in a specific way."
      ]
    },
    {
      "cell_type": "markdown",
      "metadata": {
        "id": "tsrJIQL0Qv2n"
      },
      "source": [
        "## Functions\n",
        "\n",
        "Let's look at the random integer example again:"
      ]
    },
    {
      "cell_type": "code",
      "metadata": {
        "id": "bynVpfOd0-do"
      },
      "source": [
        "import random\n",
        "\n",
        "rand_no = random.randint(1, 11)\n",
        "print(rand_no)"
      ],
      "execution_count": null,
      "outputs": []
    },
    {
      "cell_type": "markdown",
      "metadata": {
        "id": "aQzuaQnu0_8Q"
      },
      "source": [
        "When we write libraries, we want to organize our code into logical blocks that can be reused by ourselves and others. These logical blocks are called **functions**.\n",
        "\n",
        "In the example above, we see the code:\n",
        "\n",
        "```\n",
        "random.randint(1, 11)\n",
        "```\n",
        "\n",
        "This means that from the library `random`, we want to **call** (or use) the function called `randint()`."
      ]
    },
    {
      "cell_type": "markdown",
      "metadata": {
        "id": "GC7KLBTv3UOQ"
      },
      "source": [
        "### Inputs, or Parameters\n",
        "\n",
        "Note that the origin of the term \"function\" in computer science does have its roots in the concept of functions from math. If we think of a math function as something that takes in an input, does some work, and then returns an output, this is essentially what a Python function does as well.\n",
        "\n",
        "For the function `random.randint(1, 11)`, we are taking two inputs (`1` and `11`) and returning a random integer, from 1 up to 11.\n",
        "\n",
        "In programming, we call the inputs to a function its **parameters**."
      ]
    },
    {
      "cell_type": "markdown",
      "metadata": {
        "id": "Osz3HGCu4j5b"
      },
      "source": [
        "### Functions Everywhere!\n",
        "\n",
        "Now that we've talked about functions, it's time to mention... we've actually been seeing functions in use from the very first code you've run!\n",
        "\n",
        "When we run the code `print()`, we are actually running a function that's built into Python. \n",
        "\n",
        "When we run `print(\"Hello world\")`, we are running the function with a single parameter, which is a string that has the value `\"Hello world\"`."
      ]
    },
    {
      "cell_type": "markdown",
      "metadata": {
        "id": "HmOUWIWY5Vrc"
      },
      "source": [
        "### Exercise\n",
        "\n",
        "Let's go back to using the `randint()` function from the `random` library.\n",
        "\n",
        "Say I give you a list of three elements. How could you use `randint()` and list indexing to print one of the elements out by random?"
      ]
    },
    {
      "cell_type": "code",
      "metadata": {
        "id": "4z-ctKKo5nor"
      },
      "source": [
        "import random\n",
        "\n",
        "insp = [\"You can do it!\", \"Progress takes time!\", \"Keep up the good work!\"]\n",
        "\n",
        "# Add your code below to randomly print one of the elements from the list"
      ],
      "execution_count": null,
      "outputs": []
    },
    {
      "cell_type": "markdown",
      "metadata": {
        "id": "YsDowlr76HhI"
      },
      "source": [
        "## Nested Functions\n",
        "\n",
        "Just like with nested loops and 2D lists, we can have functions within functions. We've actually seen this code in the past as well, like when we do:\n",
        "\n",
        "```\n",
        "num = int(input(\"Enter an integer: \"))\n",
        "```\n",
        "\n",
        "There are two functions being used here: `input()` and `int()`.\n",
        "\n",
        "`input()` does what you would expect: it takes user input. The parameter (which in this case is `\"Enter an integer: \"`) is a message that's shown to the user as you take input.\n",
        "\n",
        "But what about `int()`? \n",
        "\n",
        "Try the following code and see what happens:"
      ]
    },
    {
      "cell_type": "code",
      "metadata": {
        "id": "PT8ErSAl6wJm"
      },
      "source": [
        "num = input(\"Enter an integer: \")\n",
        "\n",
        "if num > 5:\n",
        "  print(\"Your number was greater than 5.\")"
      ],
      "execution_count": null,
      "outputs": []
    },
    {
      "cell_type": "markdown",
      "metadata": {
        "id": "J4brYMMV65mA"
      },
      "source": [
        "Once you run this code, you'll notice that there's an error! What happened?\n",
        "\n",
        "The error message says:\n",
        "\n",
        "```\n",
        "TypeError: '>' not supported between instances of 'str' and 'int'\n",
        "```\n",
        "\n",
        "and points us at line 3, where we compare `num` to `5`.\n",
        "\n",
        "It turns out that the variable `num` is a string, whereas the number `5` is an integer, and we can't compare strings to integers using the `>` comparison operator.\n",
        "\n",
        "When we take input from the user using the function `input()`, we are actually returning a string. So when we write the following line:\n",
        "\n",
        "```\n",
        "num = input(\"Enter an integer: \")\n",
        "```\n",
        "\n",
        "`num` will actually be given whatever the user enters, but as a string. This is because it's valid for the user to type out phrases and sentences as input, and Python itself doesn't know that we expect an integer. It's as important to note that there's a difference between the following two variables:"
      ]
    },
    {
      "cell_type": "code",
      "metadata": {
        "id": "R2eRI4Z272A4"
      },
      "source": [
        "a = 3\n",
        "b = \"3\""
      ],
      "execution_count": null,
      "outputs": []
    },
    {
      "cell_type": "markdown",
      "metadata": {
        "id": "x00oC6Fm74Lq"
      },
      "source": [
        "Whereas the variable `a` has been assigned the integer 3, the variable `b` has been assigned a string that happens to say \"3\". The two are different in Python!\n",
        "\n",
        "When we use the function `int()`, we are telling the computer to convert whatever parameter we pass into `int()` into an integer, as best as we can. For example:"
      ]
    },
    {
      "cell_type": "code",
      "metadata": {
        "id": "S4yZdc988QUB"
      },
      "source": [
        "a = 4\n",
        "b = int(\"3\")\n",
        "\n",
        "if a > b:\n",
        "  print(\"We can make this comparison now!\")"
      ],
      "execution_count": null,
      "outputs": []
    },
    {
      "cell_type": "markdown",
      "metadata": {
        "id": "9aqKLyYa8Z9C"
      },
      "source": [
        "So when we write\n",
        "\n",
        "```\n",
        "num = int(input(\"Enter an integer: \"))\n",
        "```\n",
        "\n",
        "what we're really doing is taking an input as a string, telling Python to convert it into an integer, and then assigning that integer value to `num`.\n",
        "\n",
        "What happens if what the user tried to input was not an integer? (Perhaps some of you have already tried this!)"
      ]
    },
    {
      "cell_type": "code",
      "metadata": {
        "id": "hRExKzkl85Qc"
      },
      "source": [
        "# Try to enter something that's not an integer\n",
        "num = int(input(\"Enter an integer: \"))\n",
        "print(num)"
      ],
      "execution_count": null,
      "outputs": []
    },
    {
      "cell_type": "markdown",
      "metadata": {
        "id": "0PkmO2Pn9Buh"
      },
      "source": [
        "If you entered something that doesn't look like an integer, Python won't know how to convert it into an integer, and you'll get an error."
      ]
    },
    {
      "cell_type": "markdown",
      "metadata": {
        "id": "IlCqoNRB9dYu"
      },
      "source": [
        "## Guessing Game Example\n",
        "\n",
        "Let's put our knowledge of libraries, functions, loops, and conditionals to the test.\n",
        "\n",
        "For this example, we'll write a guessing game, where a random integer from 1 to 10 is picked, and the user has 3 guesses to try to get it right.\n",
        "\n",
        "Here's some code to get started:"
      ]
    },
    {
      "cell_type": "code",
      "metadata": {
        "id": "uCVbefUk90kA"
      },
      "source": [
        "# We need this to be able to pick a random integer\n",
        "import random\n",
        "\n",
        "# Pick a random integer from 1 to 10\n",
        "number = random.randint(1, 11)\n",
        "\n",
        "# Print a nice message for the user\n",
        "print(\"Hello there! This is a random number guessing game. You have 3 tries to guess the right number from 1 to 10.\")\n",
        "\n",
        "# Ask the user to enter an integer\n",
        "guess = int(input(\"Enter an integer guess: \"))\n",
        "\n",
        "# We'll add more code here in a bit"
      ],
      "execution_count": null,
      "outputs": []
    },
    {
      "cell_type": "markdown",
      "metadata": {
        "id": "ml2L1O_Y-OpF"
      },
      "source": [
        "When writing longer programs, a good practice is to write pieces of it at once and test each piece as you go. This way, it's easier to identify bugs and debug as you add to your program.\n",
        "\n",
        "The program so far generates a random number and also asks the user for one guess. To finish the game, we need to give the user 3 guesses, and also tell the user if they've guessed correctly. Let's add to the code from above:"
      ]
    },
    {
      "cell_type": "code",
      "metadata": {
        "id": "VjAjrxUw-97a"
      },
      "source": [
        "import random\n",
        "\n",
        "number = random.randint(1, 11)\n",
        "print(\"Hello there! This is a random number guessing game. You have 3 tries to guess the right number from 1 to 10.\")\n",
        "\n",
        "guess = int(input(\"Enter an integer guess: \"))\n",
        "\n",
        "# How can we check that guess is correct or not? Use a conditional!\n",
        "\n",
        "if guess == number:\n",
        "  print(\"You got it!\")\n",
        "else:\n",
        "  print(\"Wrong guess!\")"
      ],
      "execution_count": null,
      "outputs": []
    },
    {
      "cell_type": "markdown",
      "metadata": {
        "id": "V5iuzK-J_Huy"
      },
      "source": [
        "The new code we've added now tells the user if the guess was correct. But how can we repeat this process for 3 guesses?\n",
        "\n",
        "When you come across a task that requires repeating, the answer might be to add a loop!"
      ]
    },
    {
      "cell_type": "code",
      "metadata": {
        "id": "FjoAlH3u_Xox"
      },
      "source": [
        "import random\n",
        "\n",
        "number = random.randint(1, 11)\n",
        "print(\"Hello there! This is a random number guessing game. You have 3 tries to guess the right number from 1 to 10.\")\n",
        "\n",
        "for no_guess in range(1, 4):\n",
        "  print(\"Guess #\", no_guess)\n",
        "  guess = int(input(\"Enter an integer guess: \"))\n",
        "  if guess == number:\n",
        "    print(\"You got it!\")\n",
        "  else:\n",
        "    print(\"Wrong guess!\")"
      ],
      "execution_count": null,
      "outputs": []
    },
    {
      "cell_type": "markdown",
      "metadata": {
        "id": "uJSzZ0js_tyK"
      },
      "source": [
        "By using a loop, our code now allows the user to make 3 guesses. But what if the user is correct on the first or second guess? It might make sense to end the game there, before the remaining guesses. We can do this in Python by adding the keyword `break`, which will tell the computer to stop the loop where it is, even if we haven't finished repeating it 3 times."
      ]
    },
    {
      "cell_type": "code",
      "metadata": {
        "id": "Avo5tdZYAMGO"
      },
      "source": [
        "import random\n",
        "\n",
        "number = random.randint(1, 11)\n",
        "print(\"Hello there! This is a random number guessing game. You have 3 tries to guess the right number from 1 to 10.\")\n",
        "\n",
        "for no_guess in range(1, 4):\n",
        "  print(\"Guess #\", no_guess)\n",
        "  guess = int(input(\"Enter an integer guess: \"))\n",
        "  if guess == number:\n",
        "    print(\"You got it!\")\n",
        "    break\n",
        "  else:\n",
        "    print(\"Wrong guess!\")"
      ],
      "execution_count": null,
      "outputs": []
    },
    {
      "cell_type": "markdown",
      "metadata": {
        "id": "f7KBbfooAfzV"
      },
      "source": [
        "And we're done!"
      ]
    },
    {
      "cell_type": "markdown",
      "metadata": {
        "id": "kXkbKmoAA0T-"
      },
      "source": [
        "## Guessing Game Exercise\n",
        "\n",
        "As a final exercise for this lesson, modify the guessing game from before, so that your program will tell the user if their guess is too small or too large. Think about how you would modify the conditional within the loop to do this."
      ]
    },
    {
      "cell_type": "code",
      "metadata": {
        "id": "jUNs-C21BEoc"
      },
      "source": [
        "# Your code here"
      ],
      "execution_count": null,
      "outputs": []
    }
  ]
}